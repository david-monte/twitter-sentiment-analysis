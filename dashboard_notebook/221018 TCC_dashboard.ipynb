{
 "cells": [
  {
   "cell_type": "markdown",
   "id": "36fc26d4",
   "metadata": {},
   "source": [
    "# Labeling Tweets to Compose the Dashboard"
   ]
  },
  {
   "cell_type": "markdown",
   "id": "92965f2d",
   "metadata": {
    "id": "92965f2d"
   },
   "source": [
    "## Imports"
   ]
  },
  {
   "cell_type": "code",
   "execution_count": 154,
   "id": "8557a4d6",
   "metadata": {
    "ExecuteTime": {
     "end_time": "2022-10-19T23:06:54.104843Z",
     "start_time": "2022-10-19T23:06:54.093845Z"
    },
    "id": "8557a4d6"
   },
   "outputs": [],
   "source": [
    "import pandas as pd\n",
    "import numpy as np\n",
    "import datetime as dt\n",
    "from sklearn.utils import shuffle\n",
    "import pickle"
   ]
  },
  {
   "cell_type": "code",
   "execution_count": 2,
   "id": "ed3de6b7",
   "metadata": {
    "ExecuteTime": {
     "end_time": "2022-10-18T15:18:25.998612Z",
     "start_time": "2022-10-18T15:18:25.993609Z"
    }
   },
   "outputs": [],
   "source": [
    "SEED = 1275"
   ]
  },
  {
   "cell_type": "markdown",
   "id": "d5318cc2",
   "metadata": {},
   "source": [
    "## Importing tweet datasets"
   ]
  },
  {
   "cell_type": "code",
   "execution_count": 196,
   "id": "33745c13",
   "metadata": {
    "ExecuteTime": {
     "end_time": "2022-10-20T13:17:55.539129Z",
     "start_time": "2022-10-20T13:17:48.449167Z"
    }
   },
   "outputs": [],
   "source": [
    "primary_address = '\\\\Users\\dsm3\\OneDrive - UFPE\\Documentos\\Data Science\\Residência CIN (2021)\\Disciplinas\\TCC\\\\TCC - Datasets\\\\'\n",
    "secondary_address_list = [\n",
    "    'bolsonaro-220918-220917-730.csv',\n",
    "    'bolsonaro-220919-220919-600.csv',\n",
    "    'bolsonaro-220920-220920-800.csv',\n",
    "    'bolsonaro-220921-220921-600.csv',\n",
    "    'bolsonaro-220922-220922-600.csv',\n",
    "    'bolsonaro-220923-220923-700.csv',\n",
    "    'bolsonaro-220924-220924-590.csv',\n",
    "    'bolsonaro-220925-220925-842.csv',\n",
    "    'bolsonaro-220926-220926-850.csv',\n",
    "    'bolsonaro-220927-220927-850.csv',\n",
    "    'bolsonaro-220928-220928-1000.csv',\n",
    "    'bolsonaro-220929-220929-1000.csv',\n",
    "    'bolsonaro-220930-220930-1200.csv',\n",
    "    'bolsonaro-221001-221001-1000.csv',\n",
    "    'bolsonaro-221002-221002-2000.csv',\n",
    "    'bolsonaro-221003-221003-1000.csv',\n",
    "    'bolsonaro-221004-221004-800.csv',\n",
    "    'bolsonaro-221005-221005-500.csv',\n",
    "    'bolsonaro-221006-221006-500.csv',\n",
    "    'bolsonaro-221007-221007-500.csv',\n",
    "    'bolsonaro-221008-221008-500.csv',\n",
    "    'bolsonaro-221009-221009-800.csv',\n",
    "    'bolsonaro-221010-221010-800.csv',\n",
    "    'bolsonaro-221011-221011-500.csv',\n",
    "    'bolsonaro-221012-221012-500.csv',\n",
    "    'bolsonaro-221013-221013-500.csv',\n",
    "    'bolsonaro-221014-221014-500.csv',\n",
    "    'bolsonaro-221015-221015-500.csv',\n",
    "    'bolsonaro-221016-221016-800.csv',\n",
    "    'bolsonaro-221017-221017-500.csv',\n",
    "    'ciro-220918-220917-850.csv',\n",
    "    'ciro-220919-220919-380.csv',\n",
    "    'ciro-220920-220920-1000.csv',\n",
    "    'ciro-220921-220921-1000.csv',\n",
    "    'ciro-220922-220922-1000.csv',\n",
    "    'ciro-220923-220923-900.csv',\n",
    "    'ciro-220924-220924-1000.csv',\n",
    "    'ciro-220925-220925-1000.csv',\n",
    "    'ciro-220926-220926-1000.csv',\n",
    "    'ciro-220927-220927-1000.csv',\n",
    "    'ciro-220928-220928-1000.csv',\n",
    "    'ciro-220929-220929-1000.csv',\n",
    "    'ciro-220930-220930-1200.csv',\n",
    "    'ciro-221001-221001-1000.csv',\n",
    "    'ciro-221002-221002-2000.csv',\n",
    "    'ciro-221003-221003-1000.csv',\n",
    "    'ciro-221004-221004-800.csv',\n",
    "    'ciro-221005-221005-500.csv',\n",
    "    'ciro-221006-221006-500.csv',\n",
    "    'ciro-221007-221007-300.csv',\n",
    "    'ciro-221008-221008-200.csv',\n",
    "    'ciro-221009-221009-150.csv',\n",
    "    'ciro-221010-221010-150.csv',\n",
    "    'ciro-221011-221011-150.csv',\n",
    "    'ciro-221012-221012-100.csv',\n",
    "    'ciro-221013-221013-100.csv',\n",
    "    'ciro-221014-221014-100.csv',\n",
    "    'ciro-221015-221015-100.csv',\n",
    "    'ciro-221016-221016-100.csv',\n",
    "    'ciro-221017-221017-200.csv',\n",
    "    'lula-220918-220917-4500.csv',\n",
    "    'lula-220919-220919-1200.csv',\n",
    "    'lula-220920-220920-1200.csv',\n",
    "    'lula-220921-220921-1200.csv',\n",
    "    'lula-220922-220922-1200.csv',\n",
    "    'lula-220923-220923-1200.csv',\n",
    "    'lula-220924-220924-1200.csv',\n",
    "    'lula-220925-220925-1200.csv',\n",
    "    'lula-220926-220926-1200.csv',\n",
    "    'lula-220927-220927-1200.csv',\n",
    "    'lula-220928-220928-1200.csv',\n",
    "    'lula-220929-220929-1200.csv',\n",
    "    'lula-220930-220930-1200.csv',\n",
    "    'lula-221001-221001-2000.csv',\n",
    "    'lula-221002-221002-2000.csv',\n",
    "    'lula-221003-221003-1200.csv',\n",
    "    'lula-221004-221004-1200.csv',\n",
    "    'lula-221005-221005-1200.csv',\n",
    "    'lula-221006-221006-1200.csv',\n",
    "    'lula-221007-221007-1200.csv',\n",
    "    'lula-221008-221008-1200.csv',\n",
    "    'lula-221009-221009-1200.csv',\n",
    "    'lula-221010-221010-1200.csv',\n",
    "    'lula-221011-221011-1200.csv',\n",
    "    'lula-221012-221012-1200.csv',\n",
    "    'lula-221013-221013-1200.csv',\n",
    "    'lula-221014-221014-1200.csv',\n",
    "    'lula-221015-221015-1200.csv',\n",
    "    'lula-221016-221016-2000.csv',\n",
    "    'lula-221017-221017-2000.csv',\n",
    "    'simone-220918-220917-170.csv',\n",
    "    'simone-220919-220919-100.csv',\n",
    "    'simone-220920-220920-200.csv',\n",
    "    'simone-220921-220921-120.csv',\n",
    "    'simone-220922-220922-180.csv',\n",
    "    'simone-220923-220923-140.csv',\n",
    "    'simone-220924-220924-100.csv',\n",
    "    'simone-220925-220925-500.csv',\n",
    "    'simone-220926-220926-388.csv',\n",
    "    'simone-220927-220927-340.csv',\n",
    "    'simone-220928-220928-280.csv',\n",
    "    'simone-220929-220929-400.csv',\n",
    "    'simone-220930-220930-1200.csv',\n",
    "    'simone-221001-221001-500.csv',\n",
    "    'simone-221002-221002-2000.csv',\n",
    "    'simone-221003-221003-1000.csv',\n",
    "    'simone-221004-221004-500.csv',\n",
    "    'simone-221005-221005-500.csv',\n",
    "    'simone-221006-221006-500.csv',\n",
    "    'simone-221007-221007-500.csv',\n",
    "    'simone-221008-221008-400.csv',\n",
    "    'simone-221009-221009-200.csv',\n",
    "    'simone-221010-221010-200.csv',\n",
    "    'simone-221011-221011-200.csv',\n",
    "    'simone-221012-221012-100.csv',\n",
    "    'simone-221013-221013-100.csv',\n",
    "    'simone-221014-221014-100.csv',\n",
    "    'simone-221015-221015-100.csv',\n",
    "    'simone-221016-221016-100.csv',\n",
    "    'simone-221017-221017-100.csv'\n",
    "    ]\n",
    "\n",
    "for index,address in enumerate(secondary_address_list):\n",
    "    full_address = primary_address + address\n",
    "    \n",
    "    df = pd.read_csv(full_address, \n",
    "                     usecols=['id', 'date', 'tweet', 'context_annotations', 'tweet_clean', 'emojis'],\n",
    "                     infer_datetime_format=True, \n",
    "                     parse_dates=[1])\n",
    "    df['file'] = address # Adding file name column\n",
    "    \n",
    "    if index == 0:\n",
    "        df_tweets = df\n",
    "    else:\n",
    "        df_tweets = pd.concat([df_tweets, df])\n",
    "        \n",
    "df_tweets.reset_index(drop=True, inplace=True)"
   ]
  },
  {
   "cell_type": "code",
   "execution_count": 197,
   "id": "681f6186",
   "metadata": {
    "ExecuteTime": {
     "end_time": "2022-10-20T13:17:56.740645Z",
     "start_time": "2022-10-20T13:17:56.638436Z"
    }
   },
   "outputs": [
    {
     "data": {
      "text/plain": [
       "False    91773\n",
       "True      4287\n",
       "dtype: int64"
      ]
     },
     "execution_count": 197,
     "metadata": {},
     "output_type": "execute_result"
    }
   ],
   "source": [
    "# Verifying the existence of duplicate tweets\n",
    "df_tweets.duplicated(subset=['tweet'], keep='first').value_counts()"
   ]
  },
  {
   "cell_type": "code",
   "execution_count": 198,
   "id": "7021607f",
   "metadata": {
    "ExecuteTime": {
     "end_time": "2022-10-20T13:17:58.468788Z",
     "start_time": "2022-10-20T13:17:58.374748Z"
    }
   },
   "outputs": [
    {
     "data": {
      "text/plain": [
       "(91773, 7)"
      ]
     },
     "execution_count": 198,
     "metadata": {},
     "output_type": "execute_result"
    }
   ],
   "source": [
    "# Removing duplicated registers\n",
    "df_tweets.drop_duplicates(subset=['tweet'], keep='first', inplace=True)\n",
    "df_tweets.reset_index(drop=True, inplace=True)\n",
    "df_tweets.shape"
   ]
  },
  {
   "cell_type": "code",
   "execution_count": 199,
   "id": "3b999424",
   "metadata": {
    "ExecuteTime": {
     "end_time": "2022-10-20T13:18:00.202518Z",
     "start_time": "2022-10-20T13:18:00.184519Z"
    }
   },
   "outputs": [
    {
     "data": {
      "text/plain": [
       "(91773, 7)"
      ]
     },
     "execution_count": 199,
     "metadata": {},
     "output_type": "execute_result"
    }
   ],
   "source": [
    "df_tweets.shape"
   ]
  },
  {
   "cell_type": "code",
   "execution_count": 200,
   "id": "e209d20a",
   "metadata": {
    "ExecuteTime": {
     "end_time": "2022-10-20T13:18:02.266746Z",
     "start_time": "2022-10-20T13:18:02.231714Z"
    }
   },
   "outputs": [
    {
     "data": {
      "text/html": [
       "<div>\n",
       "<style scoped>\n",
       "    .dataframe tbody tr th:only-of-type {\n",
       "        vertical-align: middle;\n",
       "    }\n",
       "\n",
       "    .dataframe tbody tr th {\n",
       "        vertical-align: top;\n",
       "    }\n",
       "\n",
       "    .dataframe thead th {\n",
       "        text-align: right;\n",
       "    }\n",
       "</style>\n",
       "<table border=\"1\" class=\"dataframe\">\n",
       "  <thead>\n",
       "    <tr style=\"text-align: right;\">\n",
       "      <th></th>\n",
       "      <th>id</th>\n",
       "      <th>date</th>\n",
       "      <th>tweet</th>\n",
       "      <th>tweet_clean</th>\n",
       "      <th>emojis</th>\n",
       "      <th>file</th>\n",
       "    </tr>\n",
       "  </thead>\n",
       "  <tbody>\n",
       "    <tr>\n",
       "      <th>31532</th>\n",
       "      <td>1575069967178813441</td>\n",
       "      <td>2022-09-28 10:28:38+00:00</td>\n",
       "      <td>Lula pode ganhar no primeiro turno, mas não co...</td>\n",
       "      <td>Lula pode ganhar no primeiro turno, mas não co...</td>\n",
       "      <td>no emojis</td>\n",
       "      <td>ciro-220928-220928-1000.csv</td>\n",
       "    </tr>\n",
       "    <tr>\n",
       "      <th>64587</th>\n",
       "      <td>1577447023955136519</td>\n",
       "      <td>2022-10-04 23:54:12+00:00</td>\n",
       "      <td>Quando vejo a candidatura Lula, me lembro daqu...</td>\n",
       "      <td>Quando vejo a candidatura Lula, me lembro daqu...</td>\n",
       "      <td>no emojis</td>\n",
       "      <td>lula-221004-221004-1200.csv</td>\n",
       "    </tr>\n",
       "    <tr>\n",
       "      <th>49533</th>\n",
       "      <td>1573024550014652416</td>\n",
       "      <td>2022-09-22 19:00:52+00:00</td>\n",
       "      <td>Fiquei preocupada com a capa da maldita Veja o...</td>\n",
       "      <td>Fiquei preocupada com a capa da maldita Veja o...</td>\n",
       "      <td>no emojis</td>\n",
       "      <td>lula-220922-220922-1200.csv</td>\n",
       "    </tr>\n",
       "    <tr>\n",
       "      <th>67789</th>\n",
       "      <td>1578161297698721793</td>\n",
       "      <td>2022-10-06 23:12:28+00:00</td>\n",
       "      <td>queria ta igual um colega meu que deslocou o p...</td>\n",
       "      <td>queria ta igual um colega meu que deslocou o p...</td>\n",
       "      <td>no emojis</td>\n",
       "      <td>lula-221006-221006-1200.csv</td>\n",
       "    </tr>\n",
       "    <tr>\n",
       "      <th>9608</th>\n",
       "      <td>1575887934414540800</td>\n",
       "      <td>2022-09-30 16:38:56+00:00</td>\n",
       "      <td>o uber é bolsominion PUTA Q PARIU… ta aq elogi...</td>\n",
       "      <td>o uber é bolsominion PUTA Q PARIU… ta aq elogi...</td>\n",
       "      <td>no emojis</td>\n",
       "      <td>bolsonaro-220930-220930-1200.csv</td>\n",
       "    </tr>\n",
       "  </tbody>\n",
       "</table>\n",
       "</div>"
      ],
      "text/plain": [
       "                        id                      date  \\\n",
       "31532  1575069967178813441 2022-09-28 10:28:38+00:00   \n",
       "64587  1577447023955136519 2022-10-04 23:54:12+00:00   \n",
       "49533  1573024550014652416 2022-09-22 19:00:52+00:00   \n",
       "67789  1578161297698721793 2022-10-06 23:12:28+00:00   \n",
       "9608   1575887934414540800 2022-09-30 16:38:56+00:00   \n",
       "\n",
       "                                                   tweet  \\\n",
       "31532  Lula pode ganhar no primeiro turno, mas não co...   \n",
       "64587  Quando vejo a candidatura Lula, me lembro daqu...   \n",
       "49533  Fiquei preocupada com a capa da maldita Veja o...   \n",
       "67789  queria ta igual um colega meu que deslocou o p...   \n",
       "9608   o uber é bolsominion PUTA Q PARIU… ta aq elogi...   \n",
       "\n",
       "                                             tweet_clean     emojis  \\\n",
       "31532  Lula pode ganhar no primeiro turno, mas não co...  no emojis   \n",
       "64587  Quando vejo a candidatura Lula, me lembro daqu...  no emojis   \n",
       "49533  Fiquei preocupada com a capa da maldita Veja o...  no emojis   \n",
       "67789  queria ta igual um colega meu que deslocou o p...  no emojis   \n",
       "9608   o uber é bolsominion PUTA Q PARIU… ta aq elogi...  no emojis   \n",
       "\n",
       "                                   file  \n",
       "31532       ciro-220928-220928-1000.csv  \n",
       "64587       lula-221004-221004-1200.csv  \n",
       "49533       lula-220922-220922-1200.csv  \n",
       "67789       lula-221006-221006-1200.csv  \n",
       "9608   bolsonaro-220930-220930-1200.csv  "
      ]
     },
     "execution_count": 200,
     "metadata": {},
     "output_type": "execute_result"
    }
   ],
   "source": [
    "df_tweets[['id', 'date','tweet','tweet_clean', 'emojis','file']].sample(5)"
   ]
  },
  {
   "cell_type": "code",
   "execution_count": 201,
   "id": "70628a6c",
   "metadata": {
    "ExecuteTime": {
     "end_time": "2022-10-20T13:18:04.611721Z",
     "start_time": "2022-10-20T13:18:04.591717Z"
    },
    "colab": {
     "base_uri": "https://localhost:8080/"
    },
    "executionInfo": {
     "elapsed": 5,
     "status": "ok",
     "timestamp": 1648585502164,
     "user": {
      "displayName": "David Soares do Monte",
      "userId": "04557725439243141046"
     },
     "user_tz": 180
    },
    "id": "70628a6c",
    "outputId": "756e5be8-2284-4346-c35e-6c6357b5db4c"
   },
   "outputs": [
    {
     "name": "stdout",
     "output_type": "stream",
     "text": [
      "Período dos tweets:  2022-09-17 a 2022-10-17\n"
     ]
    }
   ],
   "source": [
    "# Date interval\n",
    "print('Período dos tweets: ', df_tweets['date'].min().strftime('%Y-%m-%d'), 'a',\\\n",
    "      df_tweets['date'].max().strftime('%Y-%m-%d'))"
   ]
  },
  {
   "cell_type": "code",
   "execution_count": 202,
   "id": "ce214616",
   "metadata": {
    "ExecuteTime": {
     "end_time": "2022-10-20T13:18:09.704790Z",
     "start_time": "2022-10-20T13:18:09.622792Z"
    }
   },
   "outputs": [
    {
     "name": "stdout",
     "output_type": "stream",
     "text": [
      "<class 'pandas.core.frame.DataFrame'>\n",
      "RangeIndex: 91773 entries, 0 to 91772\n",
      "Data columns (total 7 columns):\n",
      " #   Column               Non-Null Count  Dtype              \n",
      "---  ------               --------------  -----              \n",
      " 0   id                   91773 non-null  int64              \n",
      " 1   date                 91773 non-null  datetime64[ns, UTC]\n",
      " 2   tweet                91773 non-null  object             \n",
      " 3   context_annotations  91773 non-null  object             \n",
      " 4   tweet_clean          91773 non-null  object             \n",
      " 5   emojis               91773 non-null  object             \n",
      " 6   file                 91773 non-null  object             \n",
      "dtypes: datetime64[ns, UTC](1), int64(1), object(5)\n",
      "memory usage: 4.9+ MB\n"
     ]
    }
   ],
   "source": [
    "df_tweets.info()"
   ]
  },
  {
   "cell_type": "code",
   "execution_count": 62,
   "id": "f13bff6a",
   "metadata": {
    "ExecuteTime": {
     "end_time": "2022-10-18T18:26:13.176985Z",
     "start_time": "2022-10-18T18:26:13.168985Z"
    }
   },
   "outputs": [],
   "source": [
    "# df_tweets = shuffle(df_tweets, random_state=SEED)\n",
    "# df_tweets.reset_index(drop=False, inplace=True)"
   ]
  },
  {
   "cell_type": "markdown",
   "id": "ffc33a16",
   "metadata": {
    "id": "ffc33a16"
   },
   "source": [
    "## Dataset Labeling"
   ]
  },
  {
   "cell_type": "code",
   "execution_count": 149,
   "id": "e41398ae",
   "metadata": {
    "ExecuteTime": {
     "end_time": "2022-10-19T20:03:36.351715Z",
     "start_time": "2022-10-19T20:02:51.132316Z"
    },
    "id": "e41398ae"
   },
   "outputs": [],
   "source": [
    "import tensorflow as tf\n",
    "from tensorflow_addons.metrics.f_scores import F1Score\n",
    "\n",
    "model_address = '\\\\Users\\dsm3\\OneDrive - UFPE\\Documentos\\Data Science\\Residência CIN (2021)\\Disciplinas\\TCC\\TCC - Notebooks\\models\\\\'\n",
    "model_name = 'sentiment_model_bert_opt-adam_epoch-15_f1-weighted_zeta-3'\n",
    "model_full_address = model_address + model_name\n",
    "\n",
    "model_available = tf.keras.models.load_model(model_full_address, custom_objects={'f1_score':F1Score})"
   ]
  },
  {
   "cell_type": "code",
   "execution_count": 150,
   "id": "e6965032",
   "metadata": {
    "ExecuteTime": {
     "end_time": "2022-10-19T20:03:46.053798Z",
     "start_time": "2022-10-19T20:03:41.236084Z"
    }
   },
   "outputs": [],
   "source": [
    "from transformers import BertTokenizer\n",
    "tokenizer = BertTokenizer.from_pretrained('neuralmind/bert-base-portuguese-cased', from_pt=True)"
   ]
  },
  {
   "cell_type": "code",
   "execution_count": 151,
   "id": "b0007eba",
   "metadata": {
    "ExecuteTime": {
     "end_time": "2022-10-19T20:03:52.858567Z",
     "start_time": "2022-10-19T20:03:52.851567Z"
    }
   },
   "outputs": [],
   "source": [
    "def prepare_data(input_text, tokenizer):\n",
    "    token = tokenizer.encode_plus(\n",
    "        input_text,\n",
    "        max_length=MAX_LENGTH, \n",
    "        truncation=True, \n",
    "        padding='max_length', \n",
    "        add_special_tokens=True,\n",
    "        return_tensors='tf'\n",
    "    )\n",
    "    return {\n",
    "        'input_ids': tf.cast(token.input_ids, tf.float64),\n",
    "        'attention_mask': tf.cast(token.attention_mask, tf.float64)\n",
    "    }\n",
    "\n",
    "def make_prediction_full(model, processed_data, classes=[-1, 0, 1]):\n",
    "    probs = model.predict(processed_data)[0]\n",
    "    return probs, classes[np.argmax(probs)]"
   ]
  },
  {
   "cell_type": "code",
   "execution_count": 153,
   "id": "b235941c",
   "metadata": {
    "ExecuteTime": {
     "end_time": "2022-10-19T22:50:02.358164Z",
     "start_time": "2022-10-19T20:04:32.612788Z"
    }
   },
   "outputs": [
    {
     "data": {
      "application/vnd.jupyter.widget-view+json": {
       "model_id": "865b026d862c4671901e4335eea16bb1",
       "version_major": 2,
       "version_minor": 0
      },
      "text/plain": [
       "  0%|          | 0/91773 [00:00<?, ?it/s]"
      ]
     },
     "metadata": {},
     "output_type": "display_data"
    }
   ],
   "source": [
    "from tqdm.auto import tqdm\n",
    "\n",
    "MAX_LENGTH = 32\n",
    "\n",
    "y_pred = []\n",
    "y_score = []\n",
    "\n",
    "for tweet in tqdm(df_tweets['tweet_clean']):\n",
    "    processed_data = prepare_data(tweet, tokenizer)\n",
    "    score, pred = make_prediction_full(model_available, processed_data=processed_data)\n",
    "    y_pred.append(pred)\n",
    "    y_score.append(score)"
   ]
  },
  {
   "cell_type": "code",
   "execution_count": 155,
   "id": "9750bcab",
   "metadata": {
    "ExecuteTime": {
     "end_time": "2022-10-19T23:07:17.370124Z",
     "start_time": "2022-10-19T23:07:15.580104Z"
    }
   },
   "outputs": [],
   "source": [
    "# Saving predictions and probabilities\n",
    "\n",
    "file_name = 'predictions_bert_dashboard.pkl'\n",
    "file_output = open(file_name, 'wb')\n",
    "pickle.dump(y_pred, file_output)\n",
    "file_output.close()\n",
    "\n",
    "file_name = 'probabilities_bert_dashboard.pkl'\n",
    "file_output = open(file_name, 'wb')\n",
    "pickle.dump(y_score, file_output)\n",
    "file_output.close()\n"
   ]
  },
  {
   "cell_type": "code",
   "execution_count": null,
   "id": "b5846b09",
   "metadata": {},
   "outputs": [],
   "source": [
    "# Loading predictions\n",
    "file_name = 'predictions_bert_dashboard.pkl'\n",
    "pkl_file = open(file_name, 'rb')\n",
    "y_pred = pickle.load(pkl_file) \n",
    "pkl_file.close()\n",
    "\n",
    "# Loading probabilities\n",
    "file_name = 'probabilities_bert_dashboard.pkl'\n",
    "pkl_file = open(file_name, 'rb')\n",
    "y_score = pickle.load(pkl_file) \n",
    "pkl_file.close()"
   ]
  },
  {
   "cell_type": "code",
   "execution_count": 203,
   "id": "7d6d7a94",
   "metadata": {
    "ExecuteTime": {
     "end_time": "2022-10-20T13:18:19.911989Z",
     "start_time": "2022-10-20T13:18:19.886988Z"
    }
   },
   "outputs": [],
   "source": [
    "df_tweets['label'] = y_pred"
   ]
  },
  {
   "cell_type": "code",
   "execution_count": 204,
   "id": "233adaed",
   "metadata": {
    "ExecuteTime": {
     "end_time": "2022-10-20T13:18:21.456169Z",
     "start_time": "2022-10-20T13:18:21.399927Z"
    }
   },
   "outputs": [],
   "source": [
    "y_score_array = np.array(y_score)\n",
    "df_tweets['score(-1)'] = y_score_array[:,0]\n",
    "df_tweets['score(0)'] = y_score_array[:,1]\n",
    "df_tweets['score(1)'] = y_score_array[:,2]"
   ]
  },
  {
   "cell_type": "code",
   "execution_count": 205,
   "id": "527e9b31",
   "metadata": {
    "ExecuteTime": {
     "end_time": "2022-10-20T13:18:23.513103Z",
     "start_time": "2022-10-20T13:18:23.494103Z"
    },
    "colab": {
     "base_uri": "https://localhost:8080/",
     "height": 206
    },
    "executionInfo": {
     "elapsed": 288,
     "status": "ok",
     "timestamp": 1648585499953,
     "user": {
      "displayName": "David Soares do Monte",
      "userId": "04557725439243141046"
     },
     "user_tz": 180
    },
    "id": "527e9b31",
    "outputId": "a9fb3361-1677-4345-f6e6-7a0e5bbdcd8e",
    "scrolled": false
   },
   "outputs": [
    {
     "data": {
      "text/html": [
       "<div>\n",
       "<style scoped>\n",
       "    .dataframe tbody tr th:only-of-type {\n",
       "        vertical-align: middle;\n",
       "    }\n",
       "\n",
       "    .dataframe tbody tr th {\n",
       "        vertical-align: top;\n",
       "    }\n",
       "\n",
       "    .dataframe thead th {\n",
       "        text-align: right;\n",
       "    }\n",
       "</style>\n",
       "<table border=\"1\" class=\"dataframe\">\n",
       "  <thead>\n",
       "    <tr style=\"text-align: right;\">\n",
       "      <th></th>\n",
       "      <th>id</th>\n",
       "      <th>date</th>\n",
       "      <th>tweet</th>\n",
       "      <th>context_annotations</th>\n",
       "      <th>tweet_clean</th>\n",
       "      <th>emojis</th>\n",
       "      <th>file</th>\n",
       "      <th>label</th>\n",
       "      <th>score(-1)</th>\n",
       "      <th>score(0)</th>\n",
       "      <th>score(1)</th>\n",
       "    </tr>\n",
       "  </thead>\n",
       "  <tbody>\n",
       "    <tr>\n",
       "      <th>0</th>\n",
       "      <td>1571492643548598273</td>\n",
       "      <td>2022-09-18 13:33:37+00:00</td>\n",
       "      <td>Por enquanto meus candidatos são estes:Preside...</td>\n",
       "      <td>[{'domain': {'id': '10', 'name': 'Person', 'de...</td>\n",
       "      <td>Por enquanto meus candidatos são estes:Preside...</td>\n",
       "      <td>no emojis</td>\n",
       "      <td>bolsonaro-220918-220917-730.csv</td>\n",
       "      <td>1</td>\n",
       "      <td>0.000020</td>\n",
       "      <td>0.003428</td>\n",
       "      <td>0.996552</td>\n",
       "    </tr>\n",
       "    <tr>\n",
       "      <th>1</th>\n",
       "      <td>1571492616797134848</td>\n",
       "      <td>2022-09-18 13:33:31+00:00</td>\n",
       "      <td>Bolsonaro junta mais gente na Inglaterra,  do ...</td>\n",
       "      <td>[{'domain': {'id': '10', 'name': 'Person', 'de...</td>\n",
       "      <td>Bolsonaro junta mais gente na Inglaterra,  do ...</td>\n",
       "      <td>no emojis</td>\n",
       "      <td>bolsonaro-220918-220917-730.csv</td>\n",
       "      <td>0</td>\n",
       "      <td>0.000022</td>\n",
       "      <td>0.999957</td>\n",
       "      <td>0.000021</td>\n",
       "    </tr>\n",
       "    <tr>\n",
       "      <th>2</th>\n",
       "      <td>1571490943169069066</td>\n",
       "      <td>2022-09-18 13:26:52+00:00</td>\n",
       "      <td>(mas valoriza a democracia),quero apresentar a...</td>\n",
       "      <td>[{'domain': {'id': '10', 'name': 'Person', 'de...</td>\n",
       "      <td>(mas valoriza a democracia),quero apresentar a...</td>\n",
       "      <td>no emojis</td>\n",
       "      <td>bolsonaro-220918-220917-730.csv</td>\n",
       "      <td>1</td>\n",
       "      <td>0.000010</td>\n",
       "      <td>0.104116</td>\n",
       "      <td>0.895873</td>\n",
       "    </tr>\n",
       "    <tr>\n",
       "      <th>3</th>\n",
       "      <td>1571490499608846337</td>\n",
       "      <td>2022-09-18 13:25:06+00:00</td>\n",
       "      <td>Bolsonaro não sente nada, só ódio from TIJOLAÇ...</td>\n",
       "      <td>[{'domain': {'id': '10', 'name': 'Person', 'de...</td>\n",
       "      <td>Bolsonaro não sente nada, só ódio from TIJOLAÇ...</td>\n",
       "      <td>no emojis</td>\n",
       "      <td>bolsonaro-220918-220917-730.csv</td>\n",
       "      <td>1</td>\n",
       "      <td>0.000110</td>\n",
       "      <td>0.001526</td>\n",
       "      <td>0.998365</td>\n",
       "    </tr>\n",
       "    <tr>\n",
       "      <th>4</th>\n",
       "      <td>1571490198705373184</td>\n",
       "      <td>2022-09-18 13:23:54+00:00</td>\n",
       "      <td>Jair Bolsonaro é um cara de pau da história da...</td>\n",
       "      <td>[{'domain': {'id': '10', 'name': 'Person', 'de...</td>\n",
       "      <td>Jair Bolsonaro é um cara de pau da história da...</td>\n",
       "      <td>no emojis</td>\n",
       "      <td>bolsonaro-220918-220917-730.csv</td>\n",
       "      <td>0</td>\n",
       "      <td>0.000147</td>\n",
       "      <td>0.999679</td>\n",
       "      <td>0.000174</td>\n",
       "    </tr>\n",
       "  </tbody>\n",
       "</table>\n",
       "</div>"
      ],
      "text/plain": [
       "                    id                      date  \\\n",
       "0  1571492643548598273 2022-09-18 13:33:37+00:00   \n",
       "1  1571492616797134848 2022-09-18 13:33:31+00:00   \n",
       "2  1571490943169069066 2022-09-18 13:26:52+00:00   \n",
       "3  1571490499608846337 2022-09-18 13:25:06+00:00   \n",
       "4  1571490198705373184 2022-09-18 13:23:54+00:00   \n",
       "\n",
       "                                               tweet  \\\n",
       "0  Por enquanto meus candidatos são estes:Preside...   \n",
       "1  Bolsonaro junta mais gente na Inglaterra,  do ...   \n",
       "2  (mas valoriza a democracia),quero apresentar a...   \n",
       "3  Bolsonaro não sente nada, só ódio from TIJOLAÇ...   \n",
       "4  Jair Bolsonaro é um cara de pau da história da...   \n",
       "\n",
       "                                 context_annotations  \\\n",
       "0  [{'domain': {'id': '10', 'name': 'Person', 'de...   \n",
       "1  [{'domain': {'id': '10', 'name': 'Person', 'de...   \n",
       "2  [{'domain': {'id': '10', 'name': 'Person', 'de...   \n",
       "3  [{'domain': {'id': '10', 'name': 'Person', 'de...   \n",
       "4  [{'domain': {'id': '10', 'name': 'Person', 'de...   \n",
       "\n",
       "                                         tweet_clean     emojis  \\\n",
       "0  Por enquanto meus candidatos são estes:Preside...  no emojis   \n",
       "1  Bolsonaro junta mais gente na Inglaterra,  do ...  no emojis   \n",
       "2  (mas valoriza a democracia),quero apresentar a...  no emojis   \n",
       "3  Bolsonaro não sente nada, só ódio from TIJOLAÇ...  no emojis   \n",
       "4  Jair Bolsonaro é um cara de pau da história da...  no emojis   \n",
       "\n",
       "                              file  label  score(-1)  score(0)  score(1)  \n",
       "0  bolsonaro-220918-220917-730.csv      1   0.000020  0.003428  0.996552  \n",
       "1  bolsonaro-220918-220917-730.csv      0   0.000022  0.999957  0.000021  \n",
       "2  bolsonaro-220918-220917-730.csv      1   0.000010  0.104116  0.895873  \n",
       "3  bolsonaro-220918-220917-730.csv      1   0.000110  0.001526  0.998365  \n",
       "4  bolsonaro-220918-220917-730.csv      0   0.000147  0.999679  0.000174  "
      ]
     },
     "execution_count": 205,
     "metadata": {},
     "output_type": "execute_result"
    }
   ],
   "source": [
    "df_tweets.head()"
   ]
  },
  {
   "cell_type": "code",
   "execution_count": 207,
   "id": "f4f60d20",
   "metadata": {
    "ExecuteTime": {
     "end_time": "2022-10-20T13:18:27.053156Z",
     "start_time": "2022-10-20T13:18:26.975156Z"
    }
   },
   "outputs": [
    {
     "name": "stdout",
     "output_type": "stream",
     "text": [
      "<class 'pandas.core.frame.DataFrame'>\n",
      "RangeIndex: 91773 entries, 0 to 91772\n",
      "Data columns (total 11 columns):\n",
      " #   Column               Non-Null Count  Dtype              \n",
      "---  ------               --------------  -----              \n",
      " 0   id                   91773 non-null  int64              \n",
      " 1   date                 91773 non-null  datetime64[ns, UTC]\n",
      " 2   tweet                91773 non-null  object             \n",
      " 3   context_annotations  91773 non-null  object             \n",
      " 4   tweet_clean          91773 non-null  object             \n",
      " 5   emojis               91773 non-null  object             \n",
      " 6   file                 91773 non-null  object             \n",
      " 7   label                91773 non-null  int64              \n",
      " 8   score(-1)            91773 non-null  float32            \n",
      " 9   score(0)             91773 non-null  float32            \n",
      " 10  score(1)             91773 non-null  float32            \n",
      "dtypes: datetime64[ns, UTC](1), float32(3), int64(2), object(5)\n",
      "memory usage: 6.7+ MB\n"
     ]
    }
   ],
   "source": [
    "df_tweets.info()"
   ]
  },
  {
   "cell_type": "code",
   "execution_count": 208,
   "id": "5f56a31d",
   "metadata": {
    "ExecuteTime": {
     "end_time": "2022-10-20T13:18:28.879742Z",
     "start_time": "2022-10-20T13:18:28.862741Z"
    },
    "colab": {
     "base_uri": "https://localhost:8080/",
     "height": 112
    },
    "executionInfo": {
     "elapsed": 7,
     "status": "ok",
     "timestamp": 1648585512962,
     "user": {
      "displayName": "David Soares do Monte",
      "userId": "04557725439243141046"
     },
     "user_tz": 180
    },
    "id": "5f56a31d",
    "outputId": "c39f68fb-9e89-406c-dfdb-a47b5e2b9095"
   },
   "outputs": [
    {
     "data": {
      "text/html": [
       "<div>\n",
       "<style scoped>\n",
       "    .dataframe tbody tr th:only-of-type {\n",
       "        vertical-align: middle;\n",
       "    }\n",
       "\n",
       "    .dataframe tbody tr th {\n",
       "        vertical-align: top;\n",
       "    }\n",
       "\n",
       "    .dataframe thead th {\n",
       "        text-align: right;\n",
       "    }\n",
       "</style>\n",
       "<table border=\"1\" class=\"dataframe\">\n",
       "  <thead>\n",
       "    <tr style=\"text-align: right;\">\n",
       "      <th></th>\n",
       "      <th>count</th>\n",
       "      <th>%</th>\n",
       "    </tr>\n",
       "  </thead>\n",
       "  <tbody>\n",
       "    <tr>\n",
       "      <th>0</th>\n",
       "      <td>48842</td>\n",
       "      <td>53.220446</td>\n",
       "    </tr>\n",
       "    <tr>\n",
       "      <th>1</th>\n",
       "      <td>34680</td>\n",
       "      <td>37.788892</td>\n",
       "    </tr>\n",
       "    <tr>\n",
       "      <th>-1</th>\n",
       "      <td>8251</td>\n",
       "      <td>8.990662</td>\n",
       "    </tr>\n",
       "  </tbody>\n",
       "</table>\n",
       "</div>"
      ],
      "text/plain": [
       "    count          %\n",
       " 0  48842  53.220446\n",
       " 1  34680  37.788892\n",
       "-1   8251   8.990662"
      ]
     },
     "execution_count": 208,
     "metadata": {},
     "output_type": "execute_result"
    }
   ],
   "source": [
    "# Verificação do balaceamento das classes - coluna 'label'\n",
    "\n",
    "per_var = pd.DataFrame()\n",
    "per_var['count'] = df_tweets['label'].value_counts()\n",
    "per_var['%'] = per_var['count']/len(df_tweets['label'])*100\n",
    "per_var"
   ]
  }
 ],
 "metadata": {
  "kernelspec": {
   "display_name": "Python 3 (ipykernel)",
   "language": "python",
   "name": "python3"
  },
  "language_info": {
   "codemirror_mode": {
    "name": "ipython",
    "version": 3
   },
   "file_extension": ".py",
   "mimetype": "text/x-python",
   "name": "python",
   "nbconvert_exporter": "python",
   "pygments_lexer": "ipython3",
   "version": "3.9.13"
  },
  "toc": {
   "base_numbering": 1,
   "nav_menu": {},
   "number_sections": true,
   "sideBar": true,
   "skip_h1_title": false,
   "title_cell": "Table of Contents",
   "title_sidebar": "Contents",
   "toc_cell": false,
   "toc_position": {
    "height": "calc(100% - 180px)",
    "left": "10px",
    "top": "150px",
    "width": "233.8px"
   },
   "toc_section_display": true,
   "toc_window_display": true
  }
 },
 "nbformat": 4,
 "nbformat_minor": 5
}
