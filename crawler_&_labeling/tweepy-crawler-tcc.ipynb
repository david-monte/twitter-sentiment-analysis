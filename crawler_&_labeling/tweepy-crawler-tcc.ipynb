{
 "cells": [
  {
   "cell_type": "markdown",
   "id": "6780bbbd",
   "metadata": {},
   "source": [
    "# Tweepy - Crawler - TCC"
   ]
  },
  {
   "cell_type": "code",
   "execution_count": 1,
   "id": "1297bfcf",
   "metadata": {
    "ExecuteTime": {
     "end_time": "2022-10-13T20:28:52.657517Z",
     "start_time": "2022-10-13T20:28:51.934549Z"
    }
   },
   "outputs": [],
   "source": [
    "import tweepy\n",
    "import emoji\n",
    "import pandas as pd\n",
    "import numpy as np\n",
    "import time"
   ]
  },
  {
   "cell_type": "code",
   "execution_count": 2,
   "id": "34e47a11",
   "metadata": {
    "ExecuteTime": {
     "end_time": "2022-10-13T20:28:54.046299Z",
     "start_time": "2022-10-13T20:28:54.038299Z"
    }
   },
   "outputs": [],
   "source": [
    "bearer_token = \"put here your bearer token from your Twitter developer account\""
   ]
  },
  {
   "cell_type": "markdown",
   "id": "a8448882",
   "metadata": {},
   "source": [
    "### Emojis Functions"
   ]
  },
  {
   "cell_type": "code",
   "execution_count": 3,
   "id": "f6e3b242",
   "metadata": {
    "ExecuteTime": {
     "end_time": "2022-10-13T20:28:56.367289Z",
     "start_time": "2022-10-13T20:28:56.357287Z"
    }
   },
   "outputs": [],
   "source": [
    "def detect_emojis(text):\n",
    "    emoji_str = ''\n",
    "    for c in text:\n",
    "        if emoji.is_emoji(c) == True:\n",
    "            emoji_str = emoji_str + c\n",
    "    if len(emoji_str) > 0:\n",
    "        return ''.join(sorted(set(emoji_str), key=emoji_str.index))  # to remove duplicated from list\n",
    "    else:\n",
    "        return 'no emojis'\n",
    "\n",
    "def translate_emoji(emojis, language='pt'):\n",
    "    translate_str = ''\n",
    "    for emj in emojis:\n",
    "        translate_str = translate_str + emoji.demojize(emj, language=language) + ', '\n",
    "    return translate_str[:-2]\n",
    "\n",
    "def remove_emojis(text):\n",
    "    emojis_list = []\n",
    "\n",
    "    for c in text:\n",
    "        if emoji.is_emoji(c) == True:\n",
    "            emojis_list.append(c)\n",
    "            \n",
    "    if len(emojis_list) > 0:\n",
    "        for emj in emojis_list:\n",
    "            text = text.replace(emj,'')    \n",
    "    return text"
   ]
  },
  {
   "cell_type": "markdown",
   "id": "33e5a9d4",
   "metadata": {},
   "source": [
    "### Getting Tweet counts (volume) for a search query"
   ]
  },
  {
   "cell_type": "code",
   "execution_count": 447,
   "id": "cb320ff2",
   "metadata": {
    "ExecuteTime": {
     "end_time": "2022-10-30T14:55:43.872525Z",
     "start_time": "2022-10-30T14:55:41.878168Z"
    },
    "scrolled": true
   },
   "outputs": [
    {
     "name": "stdout",
     "output_type": "stream",
     "text": [
      "{'end': '2022-10-29T23:59:00.000Z', 'start': '2022-10-29T00:00:00.000Z', 'tweet_count': 273068}\n",
      "\n",
      "Total: 273068\n"
     ]
    }
   ],
   "source": [
    "client = tweepy.Client(bearer_token)\n",
    "\n",
    "# Replace with your own search query\n",
    "QUERY_LULA = 'Lula -is:retweet -has:links -has:mentions lang:pt context:35.862070591737675776'\n",
    "QUERY_BOZO = 'Bolsonaro -is:retweet -has:links -has:mentions lang:pt context:35.912697101083041792'\n",
    "QUERY_CIRO = 'Ciro Gomes -is:retweet -has:links -has:mentions lang:pt context:35.912370288968458240'\n",
    "QUERY_SIMONE = 'Simone Tebet -is:retweet -has:links -has:mentions lang:pt context:35.1091083297654886400'\n",
    "\n",
    "QUERY = QUERY_LULA\n",
    "\n",
    "START_TIME = '2022-10-29T00:00:00.000Z'\n",
    "END_TIME = '2022-10-29T23:59:00.000Z'\n",
    "\n",
    "counts = client.get_recent_tweets_count(query=QUERY, \n",
    "                                        granularity='day',\n",
    "                                        start_time=START_TIME,\n",
    "                                        end_time=END_TIME)\n",
    "\n",
    "total = 0\n",
    "\n",
    "for count in counts.data:\n",
    "    print(count)\n",
    "    total = total + count['tweet_count']\n",
    "print('\\nTotal:', total)"
   ]
  },
  {
   "cell_type": "markdown",
   "id": "e93b1e80",
   "metadata": {},
   "source": [
    "### Getting more than 100 tweets at a time using paginator\n",
    "* Building queries for search tweets: https://developer.twitter.com/en/docs/twitter-api/tweets/search/integrate/build-a-query#list"
   ]
  },
  {
   "cell_type": "code",
   "execution_count": 448,
   "id": "8139eed9",
   "metadata": {
    "ExecuteTime": {
     "end_time": "2022-10-30T14:56:20.955207Z",
     "start_time": "2022-10-30T14:56:10.503787Z"
    }
   },
   "outputs": [
    {
     "data": {
      "text/plain": [
       "(1200, 4)"
      ]
     },
     "execution_count": 448,
     "metadata": {},
     "output_type": "execute_result"
    }
   ],
   "source": [
    "client = tweepy.Client(bearer_token)\n",
    "\n",
    "id_list = []\n",
    "created_at_list = []\n",
    "text_list = []\n",
    "context_list = []\n",
    "place_list = []\n",
    "\n",
    "# Replace with your own search query\n",
    "# QUERY = 'Lula -is:retweet' #place_country:BR'\n",
    "# Excluding retweets, tweets with links and with mentions\n",
    "\n",
    "TWEET_FIELDS = ['context_annotations', 'created_at']\n",
    "N_TWEETS = 1200\n",
    "\n",
    "# Replace the limit with the maximum number of Tweets you want\n",
    "for tweet in tweepy.Paginator(client.search_recent_tweets, \n",
    "                              query=QUERY,\n",
    "                              start_time=START_TIME,\n",
    "                              end_time=END_TIME,\n",
    "                              tweet_fields=TWEET_FIELDS,\n",
    "                              max_results=100).flatten(limit=N_TWEETS):\n",
    "    id_list.append(tweet.id)\n",
    "    created_at_list.append(tweet.created_at)\n",
    "    text_list.append(tweet.text.replace('\\n',''))\n",
    "    \n",
    "    if len(tweet.context_annotations) > 0:\n",
    "        context_list.append(tweet.context_annotations)\n",
    "    else:\n",
    "        context_list.append('unavailable context annotations')\n",
    "    \n",
    "d = {'id':id_list, 'date':created_at_list, 'tweet':text_list, 'context_annotations':context_list} #, 'place':place_list}\n",
    "df_tweets = pd.DataFrame(data=d)\n",
    "df_tweets.shape"
   ]
  },
  {
   "cell_type": "code",
   "execution_count": 450,
   "id": "803181d2",
   "metadata": {
    "ExecuteTime": {
     "end_time": "2022-10-30T14:56:28.254112Z",
     "start_time": "2022-10-30T14:56:28.182112Z"
    }
   },
   "outputs": [
    {
     "data": {
      "text/plain": [
       "(1200, 7)"
      ]
     },
     "execution_count": 450,
     "metadata": {},
     "output_type": "execute_result"
    }
   ],
   "source": [
    "df_tweets['tweet_clean'] = df_tweets['tweet'].apply(lambda twt: remove_emojis(twt)) \n",
    "df_tweets['emojis'] = df_tweets['tweet'].apply(lambda twt: detect_emojis(twt))\n",
    "df_tweets['emojis_translated'] = df_tweets['emojis'].apply(lambda emj: translate_emoji(emj) if emj != 'no emojis' else emj)\n",
    "df_tweets.shape"
   ]
  },
  {
   "cell_type": "code",
   "execution_count": 451,
   "id": "7ea5eb7b",
   "metadata": {
    "ExecuteTime": {
     "end_time": "2022-10-30T14:56:29.213288Z",
     "start_time": "2022-10-30T14:56:29.152040Z"
    }
   },
   "outputs": [
    {
     "data": {
      "text/html": [
       "<div>\n",
       "<style scoped>\n",
       "    .dataframe tbody tr th:only-of-type {\n",
       "        vertical-align: middle;\n",
       "    }\n",
       "\n",
       "    .dataframe tbody tr th {\n",
       "        vertical-align: top;\n",
       "    }\n",
       "\n",
       "    .dataframe thead th {\n",
       "        text-align: right;\n",
       "    }\n",
       "</style>\n",
       "<table border=\"1\" class=\"dataframe\">\n",
       "  <thead>\n",
       "    <tr style=\"text-align: right;\">\n",
       "      <th></th>\n",
       "      <th>id</th>\n",
       "      <th>date</th>\n",
       "      <th>tweet</th>\n",
       "      <th>context_annotations</th>\n",
       "      <th>tweet_clean</th>\n",
       "      <th>emojis</th>\n",
       "      <th>emojis_translated</th>\n",
       "    </tr>\n",
       "  </thead>\n",
       "  <tbody>\n",
       "    <tr>\n",
       "      <th>954</th>\n",
       "      <td>1586504716762370048</td>\n",
       "      <td>2022-10-29 23:46:14+00:00</td>\n",
       "      <td>🔴⚫️ Esqueça tudo, menos de sair de casa pra vo...</td>\n",
       "      <td>[{'domain': {'id': '3', 'name': 'TV Shows', 'd...</td>\n",
       "      <td>️ Esqueça tudo, menos de sair de casa pra vota...</td>\n",
       "      <td>🔴⚫✅⭐</td>\n",
       "      <td>:círculo_vermelho:, :círculo_preto:, :marca_de...</td>\n",
       "    </tr>\n",
       "    <tr>\n",
       "      <th>571</th>\n",
       "      <td>1586505990215639040</td>\n",
       "      <td>2022-10-29 23:51:18+00:00</td>\n",
       "      <td>agora só falta o lula amanhã pra completar</td>\n",
       "      <td>[{'domain': {'id': '10', 'name': 'Person', 'de...</td>\n",
       "      <td>agora só falta o lula amanhã pra completar</td>\n",
       "      <td>no emojis</td>\n",
       "      <td>no emojis</td>\n",
       "    </tr>\n",
       "    <tr>\n",
       "      <th>770</th>\n",
       "      <td>1586505307089272832</td>\n",
       "      <td>2022-10-29 23:48:35+00:00</td>\n",
       "      <td>Lula terminou o primeiro turno com 48% deve te...</td>\n",
       "      <td>[{'domain': {'id': '29', 'name': 'Events [Enti...</td>\n",
       "      <td>Lula terminou o primeiro turno com 48% deve te...</td>\n",
       "      <td>no emojis</td>\n",
       "      <td>no emojis</td>\n",
       "    </tr>\n",
       "    <tr>\n",
       "      <th>422</th>\n",
       "      <td>1586506522707873792</td>\n",
       "      <td>2022-10-29 23:53:25+00:00</td>\n",
       "      <td>Imagens lindas da paulista hoje 🤗Amanhã é LULA ❤️</td>\n",
       "      <td>[{'domain': {'id': '10', 'name': 'Person', 'de...</td>\n",
       "      <td>Imagens lindas da paulista hoje Amanhã é LULA ️</td>\n",
       "      <td>🤗❤</td>\n",
       "      <td>:rosto_abraçando:, :coração_vermelho:</td>\n",
       "    </tr>\n",
       "    <tr>\n",
       "      <th>81</th>\n",
       "      <td>1586507601504014337</td>\n",
       "      <td>2022-10-29 23:57:42+00:00</td>\n",
       "      <td>Não pregamos ódio, nem fazemos apologia a arma...</td>\n",
       "      <td>[{'domain': {'id': '10', 'name': 'Person', 'de...</td>\n",
       "      <td>Não pregamos ódio, nem fazemos apologia a arma...</td>\n",
       "      <td>🔥🚩🙌🌈🏆❤</td>\n",
       "      <td>:fogo:, :bandeira_triangular:, :mãos_para_cima...</td>\n",
       "    </tr>\n",
       "  </tbody>\n",
       "</table>\n",
       "</div>"
      ],
      "text/plain": [
       "                      id                      date  \\\n",
       "954  1586504716762370048 2022-10-29 23:46:14+00:00   \n",
       "571  1586505990215639040 2022-10-29 23:51:18+00:00   \n",
       "770  1586505307089272832 2022-10-29 23:48:35+00:00   \n",
       "422  1586506522707873792 2022-10-29 23:53:25+00:00   \n",
       "81   1586507601504014337 2022-10-29 23:57:42+00:00   \n",
       "\n",
       "                                                 tweet  \\\n",
       "954  🔴⚫️ Esqueça tudo, menos de sair de casa pra vo...   \n",
       "571         agora só falta o lula amanhã pra completar   \n",
       "770  Lula terminou o primeiro turno com 48% deve te...   \n",
       "422  Imagens lindas da paulista hoje 🤗Amanhã é LULA ❤️   \n",
       "81   Não pregamos ódio, nem fazemos apologia a arma...   \n",
       "\n",
       "                                   context_annotations  \\\n",
       "954  [{'domain': {'id': '3', 'name': 'TV Shows', 'd...   \n",
       "571  [{'domain': {'id': '10', 'name': 'Person', 'de...   \n",
       "770  [{'domain': {'id': '29', 'name': 'Events [Enti...   \n",
       "422  [{'domain': {'id': '10', 'name': 'Person', 'de...   \n",
       "81   [{'domain': {'id': '10', 'name': 'Person', 'de...   \n",
       "\n",
       "                                           tweet_clean     emojis  \\\n",
       "954  ️ Esqueça tudo, menos de sair de casa pra vota...       🔴⚫✅⭐   \n",
       "571         agora só falta o lula amanhã pra completar  no emojis   \n",
       "770  Lula terminou o primeiro turno com 48% deve te...  no emojis   \n",
       "422    Imagens lindas da paulista hoje Amanhã é LULA ️         🤗❤   \n",
       "81   Não pregamos ódio, nem fazemos apologia a arma...     🔥🚩🙌🌈🏆❤   \n",
       "\n",
       "                                     emojis_translated  \n",
       "954  :círculo_vermelho:, :círculo_preto:, :marca_de...  \n",
       "571                                          no emojis  \n",
       "770                                          no emojis  \n",
       "422              :rosto_abraçando:, :coração_vermelho:  \n",
       "81   :fogo:, :bandeira_triangular:, :mãos_para_cima...  "
      ]
     },
     "execution_count": 451,
     "metadata": {},
     "output_type": "execute_result"
    }
   ],
   "source": [
    "df_tweets.sample(5)"
   ]
  },
  {
   "cell_type": "code",
   "execution_count": 452,
   "id": "788ee01a",
   "metadata": {
    "ExecuteTime": {
     "end_time": "2022-10-30T14:56:32.418685Z",
     "start_time": "2022-10-30T14:56:32.398207Z"
    }
   },
   "outputs": [
    {
     "data": {
      "text/plain": [
       "(Timestamp('2022-10-29 23:43:17+0000', tz='UTC'),\n",
       " Timestamp('2022-10-29 23:58:58+0000', tz='UTC'))"
      ]
     },
     "execution_count": 452,
     "metadata": {},
     "output_type": "execute_result"
    }
   ],
   "source": [
    "df_tweets['date'].min(), df_tweets['date'].max()"
   ]
  },
  {
   "cell_type": "code",
   "execution_count": 453,
   "id": "2f651749",
   "metadata": {
    "ExecuteTime": {
     "end_time": "2022-10-30T14:56:42.244761Z",
     "start_time": "2022-10-30T14:56:42.109796Z"
    }
   },
   "outputs": [],
   "source": [
    "# Save tweets...\n",
    "file_name = 'lula-221029-221029-' + str(df_tweets.shape[0]) + '.csv'\n",
    "df_tweets.to_csv(file_name)"
   ]
  },
  {
   "cell_type": "code",
   "execution_count": 13,
   "id": "ff917079",
   "metadata": {
    "ExecuteTime": {
     "end_time": "2022-09-05T11:28:09.688237Z",
     "start_time": "2022-09-05T11:28:09.666237Z"
    }
   },
   "outputs": [
    {
     "name": "stdout",
     "output_type": "stream",
     "text": [
      "Número total de registros: 43922\n",
      "Número de registros com emojis: 6109\n"
     ]
    }
   ],
   "source": [
    "# Number of registers with emojis\n",
    "count_emojis = 0\n",
    "register_emojis = []\n",
    "\n",
    "for index,text in enumerate(df_tweets['emojis']):\n",
    "    if text != 'no emojis':\n",
    "        count_emojis = count_emojis + 1\n",
    "        register_emojis.append(index)\n",
    "\n",
    "print('Número total de registros:', df_tweets.shape[0])\n",
    "print('Número de registros com emojis:', count_emojis)"
   ]
  }
 ],
 "metadata": {
  "kernelspec": {
   "display_name": "Python 3 (ipykernel)",
   "language": "python",
   "name": "python3"
  },
  "language_info": {
   "codemirror_mode": {
    "name": "ipython",
    "version": 3
   },
   "file_extension": ".py",
   "mimetype": "text/x-python",
   "name": "python",
   "nbconvert_exporter": "python",
   "pygments_lexer": "ipython3",
   "version": "3.9.13"
  },
  "toc": {
   "base_numbering": 1,
   "nav_menu": {},
   "number_sections": true,
   "sideBar": true,
   "skip_h1_title": false,
   "title_cell": "Table of Contents",
   "title_sidebar": "Contents",
   "toc_cell": false,
   "toc_position": {},
   "toc_section_display": true,
   "toc_window_display": false
  },
  "varInspector": {
   "cols": {
    "lenName": 16,
    "lenType": 16,
    "lenVar": 40
   },
   "kernels_config": {
    "python": {
     "delete_cmd_postfix": "",
     "delete_cmd_prefix": "del ",
     "library": "var_list.py",
     "varRefreshCmd": "print(var_dic_list())"
    },
    "r": {
     "delete_cmd_postfix": ") ",
     "delete_cmd_prefix": "rm(",
     "library": "var_list.r",
     "varRefreshCmd": "cat(var_dic_list()) "
    }
   },
   "types_to_exclude": [
    "module",
    "function",
    "builtin_function_or_method",
    "instance",
    "_Feature"
   ],
   "window_display": false
  }
 },
 "nbformat": 4,
 "nbformat_minor": 5
}
