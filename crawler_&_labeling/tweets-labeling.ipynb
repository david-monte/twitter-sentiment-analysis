{
 "cells": [
  {
   "cell_type": "markdown",
   "id": "1ff41553",
   "metadata": {},
   "source": [
    "# Tweets Labeling"
   ]
  },
  {
   "cell_type": "markdown",
   "id": "7b1e8ee7",
   "metadata": {},
   "source": [
    "### Imports"
   ]
  },
  {
   "cell_type": "code",
   "execution_count": 22,
   "id": "eb40e89f",
   "metadata": {
    "ExecuteTime": {
     "end_time": "2022-10-18T18:17:06.313043Z",
     "start_time": "2022-10-18T18:17:06.285045Z"
    }
   },
   "outputs": [],
   "source": [
    "import emoji\n",
    "import pandas as pd\n",
    "import numpy as np\n",
    "import time\n",
    "import datetime as dt"
   ]
  },
  {
   "cell_type": "markdown",
   "id": "692051ce",
   "metadata": {},
   "source": [
    "### Import emojis collection and make some adjusts"
   ]
  },
  {
   "cell_type": "code",
   "execution_count": 23,
   "id": "9e51e92c",
   "metadata": {
    "ExecuteTime": {
     "end_time": "2022-10-18T18:17:06.453043Z",
     "start_time": "2022-10-18T18:17:06.317043Z"
    }
   },
   "outputs": [],
   "source": [
    "primary_address = '\\\\Users\\dsm3\\OneDrive - UFPE\\Documentos\\Data Science\\Residência CIN (2021)\\Disciplinas\\TCC\\\\TCC - Sentiment Analysis\\\\'\n",
    "secondary_address = 'emojis-sentiment-analysis-full.csv'\n",
    "PATH = primary_address + secondary_address \n",
    "\n",
    "df_sentiment = pd.read_csv(PATH)"
   ]
  },
  {
   "cell_type": "code",
   "execution_count": 24,
   "id": "595fa30e",
   "metadata": {
    "ExecuteTime": {
     "end_time": "2022-10-18T18:17:06.532043Z",
     "start_time": "2022-10-18T18:17:06.456044Z"
    }
   },
   "outputs": [
    {
     "data": {
      "text/html": [
       "<div>\n",
       "<style scoped>\n",
       "    .dataframe tbody tr th:only-of-type {\n",
       "        vertical-align: middle;\n",
       "    }\n",
       "\n",
       "    .dataframe tbody tr th {\n",
       "        vertical-align: top;\n",
       "    }\n",
       "\n",
       "    .dataframe thead th {\n",
       "        text-align: right;\n",
       "    }\n",
       "</style>\n",
       "<table border=\"1\" class=\"dataframe\">\n",
       "  <thead>\n",
       "    <tr style=\"text-align: right;\">\n",
       "      <th></th>\n",
       "      <th>char</th>\n",
       "      <th>image</th>\n",
       "      <th>unicode</th>\n",
       "      <th>occurrences</th>\n",
       "      <th>position</th>\n",
       "      <th>neg</th>\n",
       "      <th>neutral</th>\n",
       "      <th>pos</th>\n",
       "      <th>sentiment_score</th>\n",
       "      <th>unicode_name</th>\n",
       "      <th>unicode_block</th>\n",
       "    </tr>\n",
       "  </thead>\n",
       "  <tbody>\n",
       "    <tr>\n",
       "      <th>0</th>\n",
       "      <td>😂</td>\n",
       "      <td>😂</td>\n",
       "      <td>0x1f602</td>\n",
       "      <td>14622</td>\n",
       "      <td>0.805</td>\n",
       "      <td>0.247</td>\n",
       "      <td>0.285</td>\n",
       "      <td>0.468</td>\n",
       "      <td>0.221</td>\n",
       "      <td>FACE WITH TEARS OF JOY</td>\n",
       "      <td>Emoticons</td>\n",
       "    </tr>\n",
       "    <tr>\n",
       "      <th>1</th>\n",
       "      <td>❤</td>\n",
       "      <td>❤</td>\n",
       "      <td>0x2764</td>\n",
       "      <td>8050</td>\n",
       "      <td>0.747</td>\n",
       "      <td>0.044</td>\n",
       "      <td>0.166</td>\n",
       "      <td>0.790</td>\n",
       "      <td>0.746</td>\n",
       "      <td>HEAVY BLACK HEART</td>\n",
       "      <td>Dingbats</td>\n",
       "    </tr>\n",
       "    <tr>\n",
       "      <th>2</th>\n",
       "      <td>♥</td>\n",
       "      <td>♥</td>\n",
       "      <td>0x2665</td>\n",
       "      <td>7144</td>\n",
       "      <td>0.754</td>\n",
       "      <td>0.035</td>\n",
       "      <td>0.272</td>\n",
       "      <td>0.693</td>\n",
       "      <td>0.657</td>\n",
       "      <td>BLACK HEART SUIT</td>\n",
       "      <td>Miscellaneous Symbols</td>\n",
       "    </tr>\n",
       "    <tr>\n",
       "      <th>3</th>\n",
       "      <td>😍</td>\n",
       "      <td>😍</td>\n",
       "      <td>0x1f60d</td>\n",
       "      <td>6359</td>\n",
       "      <td>0.765</td>\n",
       "      <td>0.052</td>\n",
       "      <td>0.219</td>\n",
       "      <td>0.729</td>\n",
       "      <td>0.678</td>\n",
       "      <td>SMILING FACE WITH HEART-SHAPED EYES</td>\n",
       "      <td>Emoticons</td>\n",
       "    </tr>\n",
       "    <tr>\n",
       "      <th>4</th>\n",
       "      <td>😭</td>\n",
       "      <td>😭</td>\n",
       "      <td>0x1f62d</td>\n",
       "      <td>5526</td>\n",
       "      <td>0.803</td>\n",
       "      <td>0.436</td>\n",
       "      <td>0.220</td>\n",
       "      <td>0.343</td>\n",
       "      <td>-0.093</td>\n",
       "      <td>LOUDLY CRYING FACE</td>\n",
       "      <td>Emoticons</td>\n",
       "    </tr>\n",
       "  </tbody>\n",
       "</table>\n",
       "</div>"
      ],
      "text/plain": [
       "  char image  unicode  occurrences  position    neg  neutral    pos  \\\n",
       "0    😂     😂  0x1f602        14622     0.805  0.247    0.285  0.468   \n",
       "1    ❤     ❤   0x2764         8050     0.747  0.044    0.166  0.790   \n",
       "2    ♥     ♥   0x2665         7144     0.754  0.035    0.272  0.693   \n",
       "3    😍     😍  0x1f60d         6359     0.765  0.052    0.219  0.729   \n",
       "4    😭     😭  0x1f62d         5526     0.803  0.436    0.220  0.343   \n",
       "\n",
       "   sentiment_score                         unicode_name          unicode_block  \n",
       "0            0.221               FACE WITH TEARS OF JOY              Emoticons  \n",
       "1            0.746                    HEAVY BLACK HEART               Dingbats  \n",
       "2            0.657                     BLACK HEART SUIT  Miscellaneous Symbols  \n",
       "3            0.678  SMILING FACE WITH HEART-SHAPED EYES              Emoticons  \n",
       "4           -0.093                   LOUDLY CRYING FACE              Emoticons  "
      ]
     },
     "execution_count": 24,
     "metadata": {},
     "output_type": "execute_result"
    }
   ],
   "source": [
    "df_sentiment.head()"
   ]
  },
  {
   "cell_type": "code",
   "execution_count": 25,
   "id": "f3cd3b52",
   "metadata": {
    "ExecuteTime": {
     "end_time": "2022-10-18T18:17:06.547043Z",
     "start_time": "2022-10-18T18:17:06.534045Z"
    }
   },
   "outputs": [
    {
     "data": {
      "text/plain": [
       "(751, 11)"
      ]
     },
     "execution_count": 25,
     "metadata": {},
     "output_type": "execute_result"
    }
   ],
   "source": [
    "df_sentiment.shape"
   ]
  },
  {
   "cell_type": "code",
   "execution_count": null,
   "id": "67e4a40e",
   "metadata": {
    "ExecuteTime": {
     "end_time": "2022-10-18T18:17:06.578045Z",
     "start_time": "2022-10-18T18:17:06.556045Z"
    },
    "scrolled": true
   },
   "outputs": [],
   "source": [
    "score_limit = 0.4\n",
    "\n",
    "df_sentiment['sentiment'] = df_sentiment['sentiment_score'].apply(lambda s: 1 if s >= score_limit else (-1 if s <= -score_limit else 0))"
   ]
  },
  {
   "cell_type": "code",
   "execution_count": 27,
   "id": "74937672",
   "metadata": {
    "ExecuteTime": {
     "end_time": "2022-10-18T18:17:06.632045Z",
     "start_time": "2022-10-18T18:17:06.580045Z"
    }
   },
   "outputs": [
    {
     "data": {
      "text/html": [
       "<div>\n",
       "<style scoped>\n",
       "    .dataframe tbody tr th:only-of-type {\n",
       "        vertical-align: middle;\n",
       "    }\n",
       "\n",
       "    .dataframe tbody tr th {\n",
       "        vertical-align: top;\n",
       "    }\n",
       "\n",
       "    .dataframe thead th {\n",
       "        text-align: right;\n",
       "    }\n",
       "</style>\n",
       "<table border=\"1\" class=\"dataframe\">\n",
       "  <thead>\n",
       "    <tr style=\"text-align: right;\">\n",
       "      <th></th>\n",
       "      <th>char</th>\n",
       "      <th>image</th>\n",
       "      <th>unicode</th>\n",
       "      <th>occurrences</th>\n",
       "      <th>position</th>\n",
       "      <th>neg</th>\n",
       "      <th>neutral</th>\n",
       "      <th>pos</th>\n",
       "      <th>sentiment_score</th>\n",
       "      <th>unicode_name</th>\n",
       "      <th>unicode_block</th>\n",
       "      <th>sentiment</th>\n",
       "    </tr>\n",
       "  </thead>\n",
       "  <tbody>\n",
       "    <tr>\n",
       "      <th>140</th>\n",
       "      <td>🔪</td>\n",
       "      <td>🔪</td>\n",
       "      <td>0x1f52a</td>\n",
       "      <td>183</td>\n",
       "      <td>0.764</td>\n",
       "      <td>0.210</td>\n",
       "      <td>0.511</td>\n",
       "      <td>0.280</td>\n",
       "      <td>0.070</td>\n",
       "      <td>HOCHO</td>\n",
       "      <td>Miscellaneous Symbols and Pictographs</td>\n",
       "      <td>0</td>\n",
       "    </tr>\n",
       "    <tr>\n",
       "      <th>326</th>\n",
       "      <td>🇷</td>\n",
       "      <td>🇷</td>\n",
       "      <td>0x1f1f7</td>\n",
       "      <td>42</td>\n",
       "      <td>0.716</td>\n",
       "      <td>0.044</td>\n",
       "      <td>0.244</td>\n",
       "      <td>0.711</td>\n",
       "      <td>0.667</td>\n",
       "      <td>REGIONAL INDICATOR SYMBOL LETTER R</td>\n",
       "      <td>Enclosed Alphanumeric Supplement</td>\n",
       "      <td>1</td>\n",
       "    </tr>\n",
       "    <tr>\n",
       "      <th>713</th>\n",
       "      <td>☾</td>\n",
       "      <td>☾</td>\n",
       "      <td>0x263e</td>\n",
       "      <td>6</td>\n",
       "      <td>0.453</td>\n",
       "      <td>0.111</td>\n",
       "      <td>0.778</td>\n",
       "      <td>0.111</td>\n",
       "      <td>0.000</td>\n",
       "      <td>LAST QUARTER MOON</td>\n",
       "      <td>Miscellaneous Symbols</td>\n",
       "      <td>0</td>\n",
       "    </tr>\n",
       "    <tr>\n",
       "      <th>507</th>\n",
       "      <td>╥</td>\n",
       "      <td>╥</td>\n",
       "      <td>0x2565</td>\n",
       "      <td>16</td>\n",
       "      <td>0.869</td>\n",
       "      <td>0.368</td>\n",
       "      <td>0.158</td>\n",
       "      <td>0.474</td>\n",
       "      <td>0.105</td>\n",
       "      <td>BOX DRAWINGS DOWN DOUBLE AND HORIZONTAL SINGLE</td>\n",
       "      <td>Box Drawing</td>\n",
       "      <td>0</td>\n",
       "    </tr>\n",
       "    <tr>\n",
       "      <th>509</th>\n",
       "      <td>👖</td>\n",
       "      <td>👖</td>\n",
       "      <td>0x1f456</td>\n",
       "      <td>15</td>\n",
       "      <td>0.910</td>\n",
       "      <td>0.111</td>\n",
       "      <td>0.444</td>\n",
       "      <td>0.444</td>\n",
       "      <td>0.333</td>\n",
       "      <td>JEANS</td>\n",
       "      <td>Miscellaneous Symbols and Pictographs</td>\n",
       "      <td>0</td>\n",
       "    </tr>\n",
       "  </tbody>\n",
       "</table>\n",
       "</div>"
      ],
      "text/plain": [
       "    char image  unicode  occurrences  position    neg  neutral    pos  \\\n",
       "140    🔪     🔪  0x1f52a          183     0.764  0.210    0.511  0.280   \n",
       "326    🇷     🇷  0x1f1f7           42     0.716  0.044    0.244  0.711   \n",
       "713    ☾     ☾   0x263e            6     0.453  0.111    0.778  0.111   \n",
       "507    ╥     ╥   0x2565           16     0.869  0.368    0.158  0.474   \n",
       "509    👖     👖  0x1f456           15     0.910  0.111    0.444  0.444   \n",
       "\n",
       "     sentiment_score                                    unicode_name  \\\n",
       "140            0.070                                           HOCHO   \n",
       "326            0.667              REGIONAL INDICATOR SYMBOL LETTER R   \n",
       "713            0.000                               LAST QUARTER MOON   \n",
       "507            0.105  BOX DRAWINGS DOWN DOUBLE AND HORIZONTAL SINGLE   \n",
       "509            0.333                                           JEANS   \n",
       "\n",
       "                             unicode_block  sentiment  \n",
       "140  Miscellaneous Symbols and Pictographs          0  \n",
       "326       Enclosed Alphanumeric Supplement          1  \n",
       "713                  Miscellaneous Symbols          0  \n",
       "507                            Box Drawing          0  \n",
       "509  Miscellaneous Symbols and Pictographs          0  "
      ]
     },
     "execution_count": 27,
     "metadata": {},
     "output_type": "execute_result"
    }
   ],
   "source": [
    "df_sentiment.sample(5)"
   ]
  },
  {
   "cell_type": "code",
   "execution_count": 28,
   "id": "98b2d988",
   "metadata": {
    "ExecuteTime": {
     "end_time": "2022-10-18T18:17:07.610044Z",
     "start_time": "2022-10-18T18:17:06.635046Z"
    }
   },
   "outputs": [
    {
     "name": "stdout",
     "output_type": "stream",
     "text": [
      "Positive emojis  292 \n",
      " ['❤', '♥', '😍', '😘', '😊', '👌', '💕', '👏', '☺', '♡', '👍', '✌', '😉', '🙌', '🙈', '💪', '😄', '💃', '💖', '😃', '🎉', '😜', '🌸', '💜', '💙', '💗', '☀', '😎', '💋', '😋', '🙊', '🎶', '💞', '😌', '💛', '💚', '😆', '😝', '😀', '😚', '😻', '💘', '👋', '🎊', '🍕', '❄', '✈', '🔝', '⚽', '👑', '🎁', '🐧', '☆', '🎈', '✊', '💓', '💦', '🙋', '🎄', '🎵', '😛', '👯', '💎', '🎂', '🏆', '😙', '⛄', '👅', '♪', '🍂', '🌴', '👈', '🌹', '🙆', '🍻', '🌞', '🍁', '⭐', '🎀', '🌺', '🐶', '🌚', '🎤', '👭', '🎧', '🍸', '🍉', '😇', '🏃', '🍺', '🎸', '🍹', '💫', '🌷', '💝', '🏈', '💍', '👸', '🇪', '🌻', '↿', '🐯', '😸', '👶', '↾', '💐', '🌊', '🍦', '🍓', '🍴', '🇸', '😽', '🌈', '🎮', '🍆', '🍰', '🍌', '💑', '🐣', '🎃', '▬', '🐾', '🎓', '🏊', '📷', '👄', '🌼', '🐱', '🇺', '🚬', '🐒', '🌍', '┊', '🐥', '💄', '⛔', '💟', '♦', '🌙', '🐟', '🗿', '🐰', '💊', '🎆', '🎎', '🇩', '🔊', '🌌', '🐻', '🍊', '🐭', '👟', '🍍', '🇷', '🌽', '🚀', '¦', '🐏', '🏄', '🆗', '⚪', '⛅', '👙', '🏡', '🌾', '🐬', '🇹', '🇮', '♔', '🌕', '🐨', '💿', '🌳', '👰', '❀', '⚓', '🚴', '➕', '👨', '🍚', '♨', '▃', '🐠', '🚹', '✰', '🌱', '🏠', '👵', '🎇', '🐎', '🐤', '🌑', '🏁', '🎾', '🐵', '◕', '🗼', '⇨', '🌓', '👳', '♩', '💌', '🌜', '🚿', '🔆', '🌛', '🏩', '🇫', '📢', '🐦', '♻', '🌘', '🌔', '😗', '🚼', '🌗', '🌖', '🔅', '🐌', '💼', '🌠', '♧', '🎢', '🎷', '🌇', '⏰', '◠', '🆔', '🌒', '🐪', '╝', '▽', '👕', '💳', '🏧', '💡', '⬅', '🇱', '📹', '👞', '👚', '🚣', '🏉', '🗻', '⛺', '🌰', '🎒', '⌒', '📴', '🔔', '◢', '💒', '🐐', '🎽', '🎺', '◤', '○', '🍼', '🐗', '⛳', '┛', '📞', '🌉', '✎', '📃', '💷', '🚄', '▲', '⛵', '🚜', '🔛', '🇲', '❅', '🎋', '◆', '🐜', '♌', '📄', '🚐', '🌋', '🚳', '✘', '┓', '┣', '👤', '👢', '🥳', '🚩', '🥰', '🤝', '🌟', '👊']\n",
      "Negative emojis  26 \n",
      " ['🚫', '￼', '👿', '✂', '🔋', '🍥', '☹', '┈', '📌', '☐', '🤦', '💰', '🤑', '😈', '👺', '👹', '🤢', '🤮', '💸', '🖕', '🤬', '🤥', '👎', '😡', '😣', '😖']\n",
      "Neutral emojis  446 \n",
      " ['😂', '😭', '😩', '😏', '😒', '😔', '😱', '☯', '✨', '😳', '★', '█', '😢', '😴', '🔥', '💯', '🔫', '💁', '♫', '😞', '😪', '�', '😫', '😅', '💀', '©', '👀', '🐓', '☕', '✋', '😥', '😕', '💥', '💔', '😤', '►', '😰', '😑', '😹', '👉', '🍃', '😠', '🍀', '🎅', '😓', '😐', '😨', '💤', '✔', '😷', '⚡', '💩', '➡', '😬', '🌿', '🔮', '❗', '👫', '✖', '☝', '💏', '🔪', '➜', '👻', '🙅', '▪', '━', '☷', '🐷', '🙉', '💅', '👽', '👆', '🍷', '®', '☑', '😿', '│', '💣', '▶', '😲', '📚', '😶', '💨', '☔', '░', '🍩', '👾', '☁', '😵', '📒', '👼', '🍔', '👇', '💆', '😧', '😮', '▓', '🙀', '⚠', '╯', '✓', '👐', '🙇', '🍟', '👬', '😟', '🍫', '🚶', '║', '🐸', '✿', '📖', '🌀', '🐼', '🎥', '●', '🏀', '💉', '🚗', '😯', '📝', '═', '💭', '👣', '☞', '🍝', '👪', '🍭', '🌃', '❌', '😦', '🍪', '🍣', '╭', '✧', '╮', '📱', '🙍', '🍑', '🎼', '🍎', '─', '╰', '💇', '♬', '♚', '🔴', '🍱', '🍒', '🌎', '📲', '☼', '🌅', '👠', '💧', '❓', '🍬', '😺', '🐴', '💢', '🎬', '🍧', '🍜', '🐘', '👧', '⠀', '➤', '⬆', '🍋', '📺', '🍅', '🐢', '◉', '✏', '🍤', '♣', '🐝', '🌝', '🐍', '🍳', '🔵', '😾', '🔐', '❁', '▀', '👗', '💬', '▒', '🔜', '🍨', '💲', '⛽', '🍙', '🍗', '🍲', '▸', '♛', '😼', '🐙', '🍖', '🎹', '♕', '🚘', '🍏', '👩', '👦', '🇬', '🇧', '☠', '💵', '╠', '👛', '🚙', '💻', '🌏', '▄', '👓', '◄', '⚾', '🌲', '👴', '🍇', '🍘', '🍛', '🐇', '🔞', '◀', '🔙', '🌵', '🐽', '🍮', '➔', '💶', '╩', '🛀', '🚲', '🐑', '🍞', '╚', '🈹', '🐳', '👮', '✪', '▐', '♠', '┳', '🐚', '👂', '🗽', '🍵', '🆒', '🍯', '🐺', '➨', '🔒', '╬', '🌂', '🚌', '🍡', '❥', '🎡', '🐩', '⌚', '🐖', '💂', '🐔', '🙎', '🔨', '🐲', '🍐', '╥', '❊', '👖', '🚺', '🎭', '🐄', '◟', '🍢', '🎨', '⬇', '⛲', '▁', '🇴', '👜', '🚕', '🐹', '🐈', '⇧', '☎', '🌁', '⚫', '🏰', '🚵', '🎐', '╗', '╱', '⇩', '🚂', '🎿', '✦', '⛪', '╔', '👔', '🔱', '🆓', '🐋', '▂', '🐛', '🚋', '🌆', '🔹', '🍠', '🐫', '🏪', '۩', '🚑', '🆘', '🚍', '□', '🐂', '✳', '🐀', '╦', '🐕', '🏂', '👡', '📻', '✒', '🏢', '🏫', '🚢', '🚚', '🐉', '❒', '🐊', '🏥', '❔', '🚖', '🃏', '▼', '▌', '☛', '✩', '🚤', '■', '🔚', '🎻', '🔷', '🚦', '🔓', '📅', '✯', '🍈', '✉', '╣', '📀', '🚛', '📓', '☉', '💴', '┼', '🐃', '➰', '🔌', '🍄', '📕', '📣', '🚓', '↪', '┻', '┃', '👱', '⏳', '💺', '🏇', '☻', 'Ⓐ', '🏨', '♎', '🔸', '⌛', '🐆', '👒', '❕', '♢', '👝', '✞', '◡', '👥', '📵', '🐡', '🏯', '☂', '🔭', '🎪', '👷', '↳', '🔈', '📍', '🚔', '📡', '⏩', '۞', '☾', '🅰', '📥', '🇼', 'Ⓛ', 'Ⓔ', '🔦', '🚁', '🎠', '🐁', '📗', '┐', '☮', '♂', '◞', '📯', '🔩', '◂', '📰', '📶', '🚥', '🌄', '🗾', '🔶', '🏤', '🎩', 'Ⓜ', '🔧', '🐅', '♮', '🅾', '🔄', '☄', '☨', '♀', '♂️', '😁', '🤣', '🐮', '✅', '🙏', '🚨']\n",
      "Inconclusive emojis  2 \n",
      " ['🤡', '🤔']\n"
     ]
    }
   ],
   "source": [
    "positive_emojis = []\n",
    "negative_emojis = []\n",
    "neutral_emojis = []\n",
    "\n",
    "for index, sentiment in enumerate(df_sentiment['sentiment']):\n",
    "    if sentiment == -1:\n",
    "        negative_emojis.append(df_sentiment.loc[index,'char'])\n",
    "    elif sentiment == 1:\n",
    "        positive_emojis.append(df_sentiment.loc[index,'char'])\n",
    "    else:\n",
    "        neutral_emojis.append(df_sentiment.loc[index,'char'])\n",
    "\n",
    "# Adding or removing some emojis from lists\n",
    "neutral_emojis.remove(\"💸\") # In political context it's a negative symbol\n",
    "neutral_emojis.remove(\"👎\")\n",
    "neutral_emojis.remove(\"😡\")\n",
    "neutral_emojis.remove(\"😣\")\n",
    "neutral_emojis.remove(\"😖\")\n",
    "neutral_emojis.remove(\"👹\")\n",
    "neutral_emojis.remove(\"👺\")\n",
    "neutral_emojis.remove(\"😈\")\n",
    "neutral_emojis.remove(\"💰\")\n",
    "\n",
    "plus_neg_emojis = [\"🤦\", \"💰\", \"🤑\",\"😈\",\"👺\", \"👹\", \"🤢\", \"🤮\", \"💸\", \"🖕\", \"🤬\", \"🤥\",\"👎\",\"😡\", \"😣\", \"😖\"]\n",
    "\n",
    "for emj in plus_neg_emojis:\n",
    "    negative_emojis.append(emj)\n",
    "    \n",
    "neutral_emojis.remove(\"🚩\") # When related to Lula it's a positive symbol\n",
    "neutral_emojis.remove(\"🌟\")\n",
    "neutral_emojis.remove(\"👊\")\n",
    "plus_pos_emojis = [\"🥳\", \"🚩\", \"🥰\", \"🤝\", \"🌟\", \"👊\"]\n",
    "\n",
    "for emj in plus_pos_emojis:\n",
    "    positive_emojis.append(emj)\n",
    "\n",
    "positive_emojis.remove(\"😁\") # In political context it's a neutral symbol\n",
    "positive_emojis.remove(\"🐮\") # In political context it's a neutral symbol or represent \"the cattle\"\n",
    "positive_emojis.remove(\"✅\")\n",
    "positive_emojis.remove(\"🙏\")\n",
    "positive_emojis.remove(\"🚨\")\n",
    "plus_neutral_emojis = [\"♀\", \"♂️\", \"😁\", \"🤣\", \"🐮\", \"✅\", \"🙏\",\"🚨\"]\n",
    "\n",
    "for emj in plus_neutral_emojis:\n",
    "    neutral_emojis.append(emj)\n",
    "    \n",
    "inconclusive_emojis = [\"🤡\", \"🤔\"] # Inconclusive classification for the politicial context \n",
    "  \n",
    "# Displaying emojis\n",
    "print('Positive emojis ', len(positive_emojis), '\\n', positive_emojis)\n",
    "print('Negative emojis ', len(negative_emojis), '\\n', negative_emojis)\n",
    "print('Neutral emojis ', len(neutral_emojis), '\\n', neutral_emojis)\n",
    "print('Inconclusive emojis ', len(inconclusive_emojis), '\\n', inconclusive_emojis)"
   ]
  },
  {
   "cell_type": "code",
   "execution_count": 29,
   "id": "9fb74760",
   "metadata": {
    "ExecuteTime": {
     "end_time": "2022-10-18T18:17:07.641044Z",
     "start_time": "2022-10-18T18:17:07.613043Z"
    }
   },
   "outputs": [],
   "source": [
    "def emojis_raw_labeling(emojis):\n",
    "    emojis_raw = ''\n",
    "    label = np.nan\n",
    "    colors_hex = [0x0001f3ff, 0x0001f3fb, 0x0001f3fe, 0x0001f3fc, 0x0001f3fd]\n",
    "    colors_hex_str = 'U0001f3ff, U0001f3fb, U0001f3fe, U0001f3fc, U0001f3fd'\n",
    "    \n",
    "    # Replacing non-default color emojis with default\n",
    "    for emj in emojis:\n",
    "        emj_ascii = ''\n",
    "        emj_ascii = emj.encode('unicode-escape').decode('ASCII').upper()\n",
    "        \n",
    "        if len(emj_ascii.split('U')) > 1:\n",
    "            emj_int = 0\n",
    "            emj_int = int('0x' + emj_ascii.split('U')[1],16) # emoji code without color code... list = ['','ascii_emoji']\n",
    "        \n",
    "            if emj_int not in colors_hex:\n",
    "                emojis_raw = emojis_raw + chr(emj_int)\n",
    "    \n",
    "    pos_list = []\n",
    "    neg_list = []\n",
    "    neutral_list = []\n",
    "    out_of_list = []\n",
    "\n",
    "    for emj in emojis_raw:\n",
    "        if emj in positive_emojis:\n",
    "            pos_list.append(emj)\n",
    "        elif emj in negative_emojis:\n",
    "            neg_list.append(emj)\n",
    "        elif emj in neutral_emojis:\n",
    "            neutral_list.append(emj)\n",
    "        else:\n",
    "            out_of_list.append(emj)\n",
    "        \n",
    "    # emojis_raws with a single emoji\n",
    "    if len(emojis_raw) == 1:\n",
    "        if emojis_raw in positive_emojis:\n",
    "            label = 1\n",
    "        elif emojis_raw in negative_emojis:\n",
    "            label = -1\n",
    "        elif emojis_raw in neutral_emojis:\n",
    "            label = 0\n",
    "        else:\n",
    "            label = np.nan\n",
    "    \n",
    "    elif len(emojis_raw) == 2:\n",
    "        \n",
    "        if (len(pos_list) != 0) and (len(pos_list) == len(neutral_list)):\n",
    "            label = 1\n",
    "        elif (len(neg_list) != 0) and (len(neg_list) == len(neutral_list)):\n",
    "            label = -1\n",
    "        elif (len(pos_list) != 0) and (len(pos_list) == len(out_of_list)):\n",
    "            label = 1\n",
    "        elif (len(neg_list) != 0) and (len(neg_list) == len(out_of_list)):\n",
    "            label = -1\n",
    "        elif (len(neutral_list) != 0) and (len(neutral_list) == len(out_of_list)):\n",
    "            label = 0\n",
    "            \n",
    "    # The rest of the emojis_raws...\n",
    "    else:       \n",
    "        if (len(pos_list) > len(neg_list)) and (len(pos_list) > len(neutral_list)) and (len(pos_list) > len(out_of_list)):\n",
    "            label = 1\n",
    "        elif (len(neg_list) > len(pos_list)) and (len(neg_list) > len(neutral_list)) and (len(neg_list) > len(out_of_list)):\n",
    "            label = -1\n",
    "        elif (len(neutral_list) > len(pos_list)) and (len(neutral_list) > len(neg_list)) and (len(neutral_list) > len(out_of_list)):\n",
    "            label = 0\n",
    "        else:\n",
    "            label = np.nan\n",
    "    return label "
   ]
  },
  {
   "cell_type": "markdown",
   "id": "d5318cc2",
   "metadata": {},
   "source": [
    "### Import dataset of tweets"
   ]
  },
  {
   "cell_type": "code",
   "execution_count": 30,
   "id": "33745c13",
   "metadata": {
    "ExecuteTime": {
     "end_time": "2022-10-18T18:17:19.795265Z",
     "start_time": "2022-10-18T18:17:07.643044Z"
    }
   },
   "outputs": [],
   "source": [
    "primary_address = '\\\\Users\\dsm3\\OneDrive - UFPE\\Documentos\\Data Science\\Residência CIN (2021)\\Disciplinas\\TCC\\\\TCC - Datasets\\\\'\n",
    "\n",
    "secondary_address_list = [\n",
    "    'bolsonaro-220918-220917-730.csv',\n",
    "    'bolsonaro-220919-220919-600.csv',\n",
    "    'bolsonaro-220920-220920-800.csv',\n",
    "    'bolsonaro-220921-220921-600.csv',\n",
    "    'bolsonaro-220922-220922-600.csv',\n",
    "    'bolsonaro-220923-220923-700.csv',\n",
    "    'bolsonaro-220924-220924-590.csv',\n",
    "    'bolsonaro-220925-220925-842.csv',\n",
    "    'bolsonaro-220926-220926-850.csv',\n",
    "    'bolsonaro-220927-220927-850.csv',\n",
    "    'bolsonaro-220928-220928-1000.csv',\n",
    "    'bolsonaro-220929-220929-1000.csv',\n",
    "    'bolsonaro-220930-220930-1200.csv',\n",
    "    'bolsonaro-221001-221001-1000.csv',\n",
    "    'bolsonaro-221002-221002-2000.csv',\n",
    "    'bolsonaro-221003-221003-1000.csv',\n",
    "    'bolsonaro-221004-221004-800.csv',\n",
    "    'bolsonaro-221005-221005-500.csv',\n",
    "    'bolsonaro-221006-221006-500.csv',\n",
    "    'bolsonaro-221007-221007-500.csv',\n",
    "    'bolsonaro-221008-221008-500.csv',\n",
    "    'bolsonaro-221009-221009-800.csv',\n",
    "    'bolsonaro-221010-221010-800.csv',\n",
    "    'bolsonaro-221011-221011-500.csv',\n",
    "    'bolsonaro-221012-221012-500.csv',\n",
    "    'bolsonaro-221013-221013-500.csv',\n",
    "    'bolsonaro-221014-221014-500.csv',\n",
    "    'bolsonaro-221015-221015-500.csv',\n",
    "    'bolsonaro-221016-221016-800.csv',\n",
    "    'bolsonaro-221017-221017-500.csv',\n",
    "    'ciro-220918-220917-850.csv',\n",
    "    'ciro-220919-220919-380.csv',\n",
    "    'ciro-220920-220920-1000.csv',\n",
    "    'ciro-220921-220921-1000.csv',\n",
    "    'ciro-220922-220922-1000.csv',\n",
    "    'ciro-220923-220923-900.csv',\n",
    "    'ciro-220924-220924-1000.csv',\n",
    "    'ciro-220925-220925-1000.csv',\n",
    "    'ciro-220926-220926-1000.csv',\n",
    "    'ciro-220927-220927-1000.csv',\n",
    "    'ciro-220928-220928-1000.csv',\n",
    "    'ciro-220929-220929-1000.csv',\n",
    "    'ciro-220930-220930-1200.csv',\n",
    "    'ciro-221001-221001-1000.csv',\n",
    "    'ciro-221002-221002-2000.csv',\n",
    "    'ciro-221003-221003-1000.csv',\n",
    "    'ciro-221004-221004-800.csv',\n",
    "    'ciro-221005-221005-500.csv',\n",
    "    'ciro-221006-221006-500.csv',\n",
    "    'ciro-221007-221007-300.csv',\n",
    "    'ciro-221008-221008-200.csv',\n",
    "    'ciro-221009-221009-150.csv',\n",
    "    'ciro-221010-221010-150.csv',\n",
    "    'ciro-221011-221011-150.csv',\n",
    "    'ciro-221012-221012-100.csv',\n",
    "    'ciro-221013-221013-100.csv',\n",
    "    'ciro-221014-221014-100.csv',\n",
    "    'ciro-221015-221015-100.csv',\n",
    "    'ciro-221016-221016-100.csv',\n",
    "    'ciro-221017-221017-200.csv',\n",
    "    'lula-220918-220917-4500.csv',\n",
    "    'lula-220919-220919-1200.csv',\n",
    "    'lula-220920-220920-1200.csv',\n",
    "    'lula-220921-220921-1200.csv',\n",
    "    'lula-220922-220922-1200.csv',\n",
    "    'lula-220923-220923-1200.csv',\n",
    "    'lula-220924-220924-1200.csv',\n",
    "    'lula-220925-220925-1200.csv',\n",
    "    'lula-220926-220926-1200.csv',\n",
    "    'lula-220927-220927-1200.csv',\n",
    "    'lula-220928-220928-1200.csv',\n",
    "    'lula-220929-220929-1200.csv',\n",
    "    'lula-220930-220930-1200.csv',\n",
    "    'lula-221001-221001-2000.csv',\n",
    "    'lula-221002-221002-2000.csv',\n",
    "    'lula-221003-221003-1200.csv',\n",
    "    'lula-221004-221004-1200.csv',\n",
    "    'lula-221005-221005-1200.csv',\n",
    "    'lula-221006-221006-1200.csv',\n",
    "    'lula-221007-221007-1200.csv',\n",
    "    'lula-221008-221008-1200.csv',\n",
    "    'lula-221009-221009-1200.csv',\n",
    "    'lula-221010-221010-1200.csv',\n",
    "    'lula-221011-221011-1200.csv',\n",
    "    'lula-221012-221012-1200.csv',\n",
    "    'lula-221013-221013-1200.csv',\n",
    "    'lula-221014-221014-1200.csv',\n",
    "    'lula-221015-221015-1200.csv',\n",
    "    'lula-221016-221016-2000.csv',\n",
    "    'lula-221017-221017-2000.csv',\n",
    "    'simone-220918-220917-170.csv',\n",
    "    'simone-220919-220919-100.csv',\n",
    "    'simone-220920-220920-200.csv',\n",
    "    'simone-220921-220921-120.csv',\n",
    "    'simone-220922-220922-180.csv',\n",
    "    'simone-220923-220923-140.csv',\n",
    "    'simone-220924-220924-100.csv',\n",
    "    'simone-220925-220925-500.csv',\n",
    "    'simone-220926-220926-388.csv',\n",
    "    'simone-220927-220927-340.csv',\n",
    "    'simone-220928-220928-280.csv',\n",
    "    'simone-220929-220929-400.csv',\n",
    "    'simone-220930-220930-1200.csv',\n",
    "    'simone-221001-221001-500.csv',\n",
    "    'simone-221002-221002-2000.csv',\n",
    "    'simone-221003-221003-1000.csv',\n",
    "    'simone-221004-221004-500.csv',\n",
    "    'simone-221005-221005-500.csv',\n",
    "    'simone-221006-221006-500.csv',\n",
    "    'simone-221007-221007-500.csv',\n",
    "    'simone-221008-221008-400.csv',\n",
    "    'simone-221009-221009-200.csv',\n",
    "    'simone-221010-221010-200.csv',\n",
    "    'simone-221011-221011-200.csv',\n",
    "    'simone-221012-221012-100.csv',\n",
    "    'simone-221013-221013-100.csv',\n",
    "    'simone-221014-221014-100.csv',\n",
    "    'simone-221015-221015-100.csv',\n",
    "    'simone-221016-221016-100.csv',\n",
    "    'simone-221017-221017-100.csv'\n",
    "    ]\n",
    "\n",
    "for index,address in enumerate(secondary_address_list):\n",
    "    full_address = primary_address + address\n",
    "    \n",
    "    df = pd.read_csv(full_address, usecols=['id', 'date', 'tweet', 'context_annotations', 'tweet_clean', 'emojis'])\n",
    "    df['file'] = address # Adding file name column\n",
    "    \n",
    "    if index == 0:\n",
    "        df_tweets = df\n",
    "    else:\n",
    "        df_tweets = pd.concat([df_tweets, df])\n",
    "        \n",
    "df_tweets.reset_index(drop=True, inplace=True)"
   ]
  },
  {
   "cell_type": "code",
   "execution_count": 31,
   "id": "3b999424",
   "metadata": {
    "ExecuteTime": {
     "end_time": "2022-10-18T18:17:19.810265Z",
     "start_time": "2022-10-18T18:17:19.801265Z"
    }
   },
   "outputs": [
    {
     "data": {
      "text/plain": [
       "(96060, 7)"
      ]
     },
     "execution_count": 31,
     "metadata": {},
     "output_type": "execute_result"
    }
   ],
   "source": [
    "df_tweets.shape"
   ]
  },
  {
   "cell_type": "code",
   "execution_count": 32,
   "id": "e209d20a",
   "metadata": {
    "ExecuteTime": {
     "end_time": "2022-10-18T18:17:19.902266Z",
     "start_time": "2022-10-18T18:17:19.813266Z"
    }
   },
   "outputs": [
    {
     "data": {
      "text/html": [
       "<div>\n",
       "<style scoped>\n",
       "    .dataframe tbody tr th:only-of-type {\n",
       "        vertical-align: middle;\n",
       "    }\n",
       "\n",
       "    .dataframe tbody tr th {\n",
       "        vertical-align: top;\n",
       "    }\n",
       "\n",
       "    .dataframe thead th {\n",
       "        text-align: right;\n",
       "    }\n",
       "</style>\n",
       "<table border=\"1\" class=\"dataframe\">\n",
       "  <thead>\n",
       "    <tr style=\"text-align: right;\">\n",
       "      <th></th>\n",
       "      <th>id</th>\n",
       "      <th>date</th>\n",
       "      <th>tweet</th>\n",
       "      <th>tweet_clean</th>\n",
       "      <th>emojis</th>\n",
       "      <th>file</th>\n",
       "    </tr>\n",
       "  </thead>\n",
       "  <tbody>\n",
       "    <tr>\n",
       "      <th>43626</th>\n",
       "      <td>1571376573495840770</td>\n",
       "      <td>2022-09-18 05:52:24+00:00</td>\n",
       "      <td>queria tanto uma camisa do lula p usar no dia ...</td>\n",
       "      <td>queria tanto uma camisa do lula p usar no dia ...</td>\n",
       "      <td>no emojis</td>\n",
       "      <td>lula-220918-220917-4500.csv</td>\n",
       "    </tr>\n",
       "    <tr>\n",
       "      <th>38655</th>\n",
       "      <td>1576988959774633984</td>\n",
       "      <td>2022-10-03 17:34:01+00:00</td>\n",
       "      <td>\"O Brasil sofrerá a maior fraude eleitoral da ...</td>\n",
       "      <td>\"O Brasil sofrerá a maior fraude eleitoral da ...</td>\n",
       "      <td>no emojis</td>\n",
       "      <td>ciro-221003-221003-1000.csv</td>\n",
       "    </tr>\n",
       "    <tr>\n",
       "      <th>62315</th>\n",
       "      <td>1576358925217079296</td>\n",
       "      <td>2022-10-01 23:50:29+00:00</td>\n",
       "      <td>vai muito ser no primeiro turno hein LULA PRES...</td>\n",
       "      <td>vai muito ser no primeiro turno hein LULA PRES...</td>\n",
       "      <td>no emojis</td>\n",
       "      <td>lula-221001-221001-2000.csv</td>\n",
       "    </tr>\n",
       "    <tr>\n",
       "      <th>28098</th>\n",
       "      <td>1573684882051563520</td>\n",
       "      <td>2022-09-24 14:44:48+00:00</td>\n",
       "      <td>Ciro Gomes vai a restaurante e joga sopa fora ...</td>\n",
       "      <td>Ciro Gomes vai a restaurante e joga sopa fora ...</td>\n",
       "      <td>no emojis</td>\n",
       "      <td>ciro-220924-220924-1000.csv</td>\n",
       "    </tr>\n",
       "    <tr>\n",
       "      <th>78708</th>\n",
       "      <td>1581069308717039616</td>\n",
       "      <td>2022-10-14 23:47:52+00:00</td>\n",
       "      <td>Que bela época pra se viver Lula vs BolsonaroG...</td>\n",
       "      <td>Que bela época pra se viver Lula vs BolsonaroG...</td>\n",
       "      <td>no emojis</td>\n",
       "      <td>lula-221014-221014-1200.csv</td>\n",
       "    </tr>\n",
       "  </tbody>\n",
       "</table>\n",
       "</div>"
      ],
      "text/plain": [
       "                        id                       date  \\\n",
       "43626  1571376573495840770  2022-09-18 05:52:24+00:00   \n",
       "38655  1576988959774633984  2022-10-03 17:34:01+00:00   \n",
       "62315  1576358925217079296  2022-10-01 23:50:29+00:00   \n",
       "28098  1573684882051563520  2022-09-24 14:44:48+00:00   \n",
       "78708  1581069308717039616  2022-10-14 23:47:52+00:00   \n",
       "\n",
       "                                                   tweet  \\\n",
       "43626  queria tanto uma camisa do lula p usar no dia ...   \n",
       "38655  \"O Brasil sofrerá a maior fraude eleitoral da ...   \n",
       "62315  vai muito ser no primeiro turno hein LULA PRES...   \n",
       "28098  Ciro Gomes vai a restaurante e joga sopa fora ...   \n",
       "78708  Que bela época pra se viver Lula vs BolsonaroG...   \n",
       "\n",
       "                                             tweet_clean     emojis  \\\n",
       "43626  queria tanto uma camisa do lula p usar no dia ...  no emojis   \n",
       "38655  \"O Brasil sofrerá a maior fraude eleitoral da ...  no emojis   \n",
       "62315  vai muito ser no primeiro turno hein LULA PRES...  no emojis   \n",
       "28098  Ciro Gomes vai a restaurante e joga sopa fora ...  no emojis   \n",
       "78708  Que bela época pra se viver Lula vs BolsonaroG...  no emojis   \n",
       "\n",
       "                              file  \n",
       "43626  lula-220918-220917-4500.csv  \n",
       "38655  ciro-221003-221003-1000.csv  \n",
       "62315  lula-221001-221001-2000.csv  \n",
       "28098  ciro-220924-220924-1000.csv  \n",
       "78708  lula-221014-221014-1200.csv  "
      ]
     },
     "execution_count": 32,
     "metadata": {},
     "output_type": "execute_result"
    }
   ],
   "source": [
    "df_tweets[['id', 'date','tweet','tweet_clean', 'emojis','file']].sample(5)"
   ]
  },
  {
   "cell_type": "markdown",
   "id": "f0de48f9",
   "metadata": {},
   "source": [
    "### Verifying the existence of duplicate tweets"
   ]
  },
  {
   "cell_type": "code",
   "execution_count": 33,
   "id": "13e9ca84",
   "metadata": {
    "ExecuteTime": {
     "end_time": "2022-10-18T18:17:20.123264Z",
     "start_time": "2022-10-18T18:17:19.906266Z"
    }
   },
   "outputs": [
    {
     "data": {
      "text/plain": [
       "False    91773\n",
       "True      4287\n",
       "dtype: int64"
      ]
     },
     "execution_count": 33,
     "metadata": {},
     "output_type": "execute_result"
    }
   ],
   "source": [
    "# Verifying the existence of duplicate tweets\n",
    "df_tweets.duplicated(subset=['tweet'], keep='first').value_counts()"
   ]
  },
  {
   "cell_type": "code",
   "execution_count": 34,
   "id": "9ed3b235",
   "metadata": {
    "ExecuteTime": {
     "end_time": "2022-10-18T18:17:20.298271Z",
     "start_time": "2022-10-18T18:17:20.125264Z"
    }
   },
   "outputs": [
    {
     "data": {
      "text/plain": [
       "(91773, 7)"
      ]
     },
     "execution_count": 34,
     "metadata": {},
     "output_type": "execute_result"
    }
   ],
   "source": [
    "# Removing duplicated registers\n",
    "df_tweets.drop_duplicates(subset=['tweet'], keep='first', inplace=True)\n",
    "df_tweets.reset_index(drop=True, inplace=True)\n",
    "df_tweets.shape"
   ]
  },
  {
   "cell_type": "markdown",
   "id": "e4c8f025",
   "metadata": {},
   "source": [
    "### Tweets Labeling"
   ]
  },
  {
   "cell_type": "code",
   "execution_count": 35,
   "id": "3196d7c4",
   "metadata": {
    "ExecuteTime": {
     "end_time": "2022-10-18T18:17:20.912782Z",
     "start_time": "2022-10-18T18:17:20.305269Z"
    }
   },
   "outputs": [],
   "source": [
    "df_tweets['label'] = df_tweets['emojis'].apply(lambda tw: np.nan if tw == 'no emojis' else emojis_raw_labeling(tw))"
   ]
  },
  {
   "cell_type": "code",
   "execution_count": 36,
   "id": "e38cb5ad",
   "metadata": {
    "ExecuteTime": {
     "end_time": "2022-10-18T18:17:21.145784Z",
     "start_time": "2022-10-18T18:17:20.914784Z"
    }
   },
   "outputs": [],
   "source": [
    "df_tweets['date'] = pd.to_datetime(df_tweets['date'])"
   ]
  },
  {
   "cell_type": "code",
   "execution_count": 37,
   "id": "2815a017",
   "metadata": {
    "ExecuteTime": {
     "end_time": "2022-10-18T18:17:21.161783Z",
     "start_time": "2022-10-18T18:17:21.148784Z"
    }
   },
   "outputs": [],
   "source": [
    "# Filtrando apenas os tweets do mês de agosto\n",
    "# df_tweets = df_tweets[df_tweets['date'].apply(lambda dt: dt.month) == 8]\n",
    "# df_tweets.shape"
   ]
  },
  {
   "cell_type": "code",
   "execution_count": 42,
   "id": "868490fd",
   "metadata": {
    "ExecuteTime": {
     "end_time": "2022-10-19T13:55:45.191110Z",
     "start_time": "2022-10-19T13:55:45.094578Z"
    }
   },
   "outputs": [
    {
     "name": "stdout",
     "output_type": "stream",
     "text": [
      " 0.0    3707\n",
      " 1.0    3140\n",
      "-1.0     608\n",
      "Name: label, dtype: int64\n",
      "Total:  7455\n"
     ]
    }
   ],
   "source": [
    "# Percentage value of each class after the labeling process\n",
    "print(df_tweets['label'].value_counts())\n",
    "print(\"Total: \", df_tweets['label'].value_counts().sum())"
   ]
  },
  {
   "cell_type": "code",
   "execution_count": 39,
   "id": "b7366a80",
   "metadata": {
    "ExecuteTime": {
     "end_time": "2022-10-18T18:17:21.255788Z",
     "start_time": "2022-10-18T18:17:21.195784Z"
    },
    "scrolled": false
   },
   "outputs": [
    {
     "data": {
      "text/html": [
       "<div>\n",
       "<style scoped>\n",
       "    .dataframe tbody tr th:only-of-type {\n",
       "        vertical-align: middle;\n",
       "    }\n",
       "\n",
       "    .dataframe tbody tr th {\n",
       "        vertical-align: top;\n",
       "    }\n",
       "\n",
       "    .dataframe thead th {\n",
       "        text-align: right;\n",
       "    }\n",
       "</style>\n",
       "<table border=\"1\" class=\"dataframe\">\n",
       "  <thead>\n",
       "    <tr style=\"text-align: right;\">\n",
       "      <th></th>\n",
       "      <th>id</th>\n",
       "      <th>date</th>\n",
       "      <th>tweet</th>\n",
       "      <th>tweet_clean</th>\n",
       "      <th>emojis</th>\n",
       "      <th>file</th>\n",
       "    </tr>\n",
       "  </thead>\n",
       "  <tbody>\n",
       "    <tr>\n",
       "      <th>37635</th>\n",
       "      <td>1576976082267275269</td>\n",
       "      <td>2022-10-03 16:42:51+00:00</td>\n",
       "      <td>#jh vamos aguardar a posição do Ciro Gomes por...</td>\n",
       "      <td>#jh vamos aguardar a posição do Ciro Gomes por...</td>\n",
       "      <td>no emojis</td>\n",
       "      <td>ciro-221003-221003-1000.csv</td>\n",
       "    </tr>\n",
       "    <tr>\n",
       "      <th>14257</th>\n",
       "      <td>1577431845536690176</td>\n",
       "      <td>2022-10-04 22:53:53+00:00</td>\n",
       "      <td>Mas o Bolsonaro é maçom ou não é? #bolsonarotr...</td>\n",
       "      <td>Mas o Bolsonaro é maçom ou não é? #bolsonarotr...</td>\n",
       "      <td>no emojis</td>\n",
       "      <td>bolsonaro-221004-221004-800.csv</td>\n",
       "    </tr>\n",
       "    <tr>\n",
       "      <th>17911</th>\n",
       "      <td>1579554071035666432</td>\n",
       "      <td>2022-10-10 19:26:51+00:00</td>\n",
       "      <td>A cabei de converter mas, 7 votos no Bolsonaro...</td>\n",
       "      <td>A cabei de converter mas, 7 votos no Bolsonaro...</td>\n",
       "      <td>no emojis</td>\n",
       "      <td>bolsonaro-221010-221010-800.csv</td>\n",
       "    </tr>\n",
       "    <tr>\n",
       "      <th>1543</th>\n",
       "      <td>1572246402545115141</td>\n",
       "      <td>2022-09-20 15:28:47+00:00</td>\n",
       "      <td>Povo achando ruim dizendo que discurso do Bols...</td>\n",
       "      <td>Povo achando ruim dizendo que discurso do Bols...</td>\n",
       "      <td>no emojis</td>\n",
       "      <td>bolsonaro-220920-220920-800.csv</td>\n",
       "    </tr>\n",
       "    <tr>\n",
       "      <th>87485</th>\n",
       "      <td>1576713166393733122</td>\n",
       "      <td>2022-10-02 23:18:07+00:00</td>\n",
       "      <td>Simone Tebet promete para as próximas eleições</td>\n",
       "      <td>Simone Tebet promete para as próximas eleições</td>\n",
       "      <td>no emojis</td>\n",
       "      <td>simone-221002-221002-2000.csv</td>\n",
       "    </tr>\n",
       "  </tbody>\n",
       "</table>\n",
       "</div>"
      ],
      "text/plain": [
       "                        id                      date  \\\n",
       "37635  1576976082267275269 2022-10-03 16:42:51+00:00   \n",
       "14257  1577431845536690176 2022-10-04 22:53:53+00:00   \n",
       "17911  1579554071035666432 2022-10-10 19:26:51+00:00   \n",
       "1543   1572246402545115141 2022-09-20 15:28:47+00:00   \n",
       "87485  1576713166393733122 2022-10-02 23:18:07+00:00   \n",
       "\n",
       "                                                   tweet  \\\n",
       "37635  #jh vamos aguardar a posição do Ciro Gomes por...   \n",
       "14257  Mas o Bolsonaro é maçom ou não é? #bolsonarotr...   \n",
       "17911  A cabei de converter mas, 7 votos no Bolsonaro...   \n",
       "1543   Povo achando ruim dizendo que discurso do Bols...   \n",
       "87485     Simone Tebet promete para as próximas eleições   \n",
       "\n",
       "                                             tweet_clean     emojis  \\\n",
       "37635  #jh vamos aguardar a posição do Ciro Gomes por...  no emojis   \n",
       "14257  Mas o Bolsonaro é maçom ou não é? #bolsonarotr...  no emojis   \n",
       "17911  A cabei de converter mas, 7 votos no Bolsonaro...  no emojis   \n",
       "1543   Povo achando ruim dizendo que discurso do Bols...  no emojis   \n",
       "87485     Simone Tebet promete para as próximas eleições  no emojis   \n",
       "\n",
       "                                  file  \n",
       "37635      ciro-221003-221003-1000.csv  \n",
       "14257  bolsonaro-221004-221004-800.csv  \n",
       "17911  bolsonaro-221010-221010-800.csv  \n",
       "1543   bolsonaro-220920-220920-800.csv  \n",
       "87485    simone-221002-221002-2000.csv  "
      ]
     },
     "execution_count": 39,
     "metadata": {},
     "output_type": "execute_result"
    }
   ],
   "source": [
    "df_tweets[['id', 'date','tweet','tweet_clean', 'emojis','file']].sample(5)"
   ]
  },
  {
   "cell_type": "code",
   "execution_count": 40,
   "id": "d421aaa4",
   "metadata": {
    "ExecuteTime": {
     "end_time": "2022-10-18T18:17:21.445801Z",
     "start_time": "2022-10-18T18:17:21.258784Z"
    }
   },
   "outputs": [
    {
     "data": {
      "text/plain": [
       "id                      0.000000\n",
       "date                    0.000000\n",
       "tweet                   0.000000\n",
       "context_annotations     0.000000\n",
       "tweet_clean             0.000000\n",
       "emojis                  0.000000\n",
       "file                    0.000000\n",
       "label                  91.876696\n",
       "dtype: float64"
      ]
     },
     "execution_count": 40,
     "metadata": {},
     "output_type": "execute_result"
    }
   ],
   "source": [
    "# Null data check\n",
    "(df_tweets.isna().sum()/df_tweets.shape[0])*100"
   ]
  },
  {
   "cell_type": "code",
   "execution_count": 41,
   "id": "5eba0d61",
   "metadata": {
    "ExecuteTime": {
     "end_time": "2022-10-18T18:17:21.601784Z",
     "start_time": "2022-10-18T18:17:21.450784Z"
    }
   },
   "outputs": [
    {
     "name": "stdout",
     "output_type": "stream",
     "text": [
      "<class 'pandas.core.frame.DataFrame'>\n",
      "RangeIndex: 91773 entries, 0 to 91772\n",
      "Data columns (total 8 columns):\n",
      " #   Column               Non-Null Count  Dtype              \n",
      "---  ------               --------------  -----              \n",
      " 0   id                   91773 non-null  int64              \n",
      " 1   date                 91773 non-null  datetime64[ns, UTC]\n",
      " 2   tweet                91773 non-null  object             \n",
      " 3   context_annotations  91773 non-null  object             \n",
      " 4   tweet_clean          91773 non-null  object             \n",
      " 5   emojis               91773 non-null  object             \n",
      " 6   file                 91773 non-null  object             \n",
      " 7   label                7455 non-null   float64            \n",
      "dtypes: datetime64[ns, UTC](1), float64(1), int64(1), object(5)\n",
      "memory usage: 5.6+ MB\n"
     ]
    }
   ],
   "source": [
    "df_tweets.info()"
   ]
  },
  {
   "cell_type": "markdown",
   "id": "07667ac1",
   "metadata": {},
   "source": [
    "### Exporting Labeled Tweets"
   ]
  },
  {
   "cell_type": "markdown",
   "id": "09f70365",
   "metadata": {},
   "source": [
    "#### Exporting all tweets (labeled and unlabeled)"
   ]
  },
  {
   "cell_type": "code",
   "execution_count": 43,
   "id": "07c3e283",
   "metadata": {
    "ExecuteTime": {
     "end_time": "2022-10-19T13:56:35.250244Z",
     "start_time": "2022-10-19T13:56:27.941298Z"
    }
   },
   "outputs": [],
   "source": [
    "count_labels = df_tweets['label'].value_counts().sum()\n",
    "\n",
    "secondary_address = 'tweets-220826-220707-' + str(df_tweets.shape[0]) + '-' + str(count_labels) + '_labeled-zeta-3.csv'\n",
    "full_address = primary_address + secondary_address\n",
    "\n",
    "df_tweets.to_csv(full_address)"
   ]
  },
  {
   "cell_type": "markdown",
   "id": "6bac6782",
   "metadata": {},
   "source": [
    "#### Exporting a sample of each class (negative, positive and neutral)"
   ]
  },
  {
   "cell_type": "code",
   "execution_count": 23,
   "id": "c610aa8a",
   "metadata": {
    "ExecuteTime": {
     "end_time": "2022-10-11T19:46:06.013296Z",
     "start_time": "2022-10-11T19:46:05.982263Z"
    }
   },
   "outputs": [],
   "source": [
    "secondary_address = 'tweets-220826-220707-200-class_-1-labeled-zeta_3.csv'\n",
    "full_address = primary_address + secondary_address\n",
    "\n",
    "df_exp = df_tweets[df_tweets['label'] == -1].copy()\n",
    "\n",
    "SEED = 1275\n",
    "SAMPLES = 200\n",
    "\n",
    "df_class = df_exp.sample(n=SAMPLES, random_state=SEED)\n",
    "df_class.reset_index(drop=False, inplace=True)\n",
    "\n",
    "df_class.to_csv(full_address)"
   ]
  },
  {
   "cell_type": "markdown",
   "id": "ddba12b4",
   "metadata": {},
   "source": [
    "#### Exporting only labeled tweets"
   ]
  },
  {
   "cell_type": "code",
   "execution_count": 21,
   "id": "79a65aa0",
   "metadata": {
    "ExecuteTime": {
     "end_time": "2022-10-13T19:58:58.742274Z",
     "start_time": "2022-10-13T19:58:57.331668Z"
    }
   },
   "outputs": [],
   "source": [
    "df_labeled = df_tweets[~df_tweets['label'].isna()].copy()\n",
    "\n",
    "secondary_address = 'tweets-220826-220707-' + str(df_labeled.shape[0]) + '-full_labeled(emojis)-zeta-3.csv'\n",
    "full_address = primary_address + secondary_address\n",
    "\n",
    "df_labeled.to_csv(full_address)"
   ]
  },
  {
   "cell_type": "markdown",
   "id": "f9775766",
   "metadata": {},
   "source": [
    "### Exporting dataframe to compose the Ground Truth"
   ]
  },
  {
   "cell_type": "code",
   "execution_count": 686,
   "id": "b88bbe6b",
   "metadata": {},
   "outputs": [
    {
     "data": {
      "text/html": [
       "<div>\n",
       "<style scoped>\n",
       "    .dataframe tbody tr th:only-of-type {\n",
       "        vertical-align: middle;\n",
       "    }\n",
       "\n",
       "    .dataframe tbody tr th {\n",
       "        vertical-align: top;\n",
       "    }\n",
       "\n",
       "    .dataframe thead th {\n",
       "        text-align: right;\n",
       "    }\n",
       "</style>\n",
       "<table border=\"1\" class=\"dataframe\">\n",
       "  <thead>\n",
       "    <tr style=\"text-align: right;\">\n",
       "      <th></th>\n",
       "      <th>index</th>\n",
       "      <th>id</th>\n",
       "      <th>date</th>\n",
       "      <th>tweet</th>\n",
       "      <th>context_annotations</th>\n",
       "      <th>tweet_clean</th>\n",
       "      <th>emojis</th>\n",
       "      <th>file</th>\n",
       "      <th>label</th>\n",
       "    </tr>\n",
       "  </thead>\n",
       "  <tbody>\n",
       "    <tr>\n",
       "      <th>0</th>\n",
       "      <td>77386</td>\n",
       "      <td>1551319479816228873</td>\n",
       "      <td>2022-07-24 21:32:40+00:00</td>\n",
       "      <td>#carluxo e #dudu continuam calados, em relação...</td>\n",
       "      <td>[{'domain': {'id': '10', 'name': 'Person', 'de...</td>\n",
       "      <td>#carluxo e #dudu continuam calados, em relação...</td>\n",
       "      <td>no emojis</td>\n",
       "      <td>lula-220728-220721-23134.csv</td>\n",
       "      <td>NaN</td>\n",
       "    </tr>\n",
       "    <tr>\n",
       "      <th>1</th>\n",
       "      <td>88425</td>\n",
       "      <td>1554900625342795777</td>\n",
       "      <td>2022-08-03 18:42:52+00:00</td>\n",
       "      <td>Atenção: Todos comerciantes de #Mortadela e #P...</td>\n",
       "      <td>[{'domain': {'id': '10', 'name': 'Person', 'de...</td>\n",
       "      <td>Atenção: Todos comerciantes de #Mortadela e #P...</td>\n",
       "      <td>😂🤪</td>\n",
       "      <td>lula-220804-220728-26269.csv</td>\n",
       "      <td>0.0</td>\n",
       "    </tr>\n",
       "    <tr>\n",
       "      <th>2</th>\n",
       "      <td>39880</td>\n",
       "      <td>1545199686994350082</td>\n",
       "      <td>2022-07-08 00:14:48+00:00</td>\n",
       "      <td>Dilma saiu em 2016, foi obrigatório ter cartei...</td>\n",
       "      <td>[{'domain': {'id': '10', 'name': 'Person', 'de...</td>\n",
       "      <td>Dilma saiu em 2016, foi obrigatório ter cartei...</td>\n",
       "      <td>🤔</td>\n",
       "      <td>lula-220714-220707-22495.csv</td>\n",
       "      <td>-1.0</td>\n",
       "    </tr>\n",
       "    <tr>\n",
       "      <th>3</th>\n",
       "      <td>38553</td>\n",
       "      <td>1545431319504617472</td>\n",
       "      <td>2022-07-08 15:35:13+00:00</td>\n",
       "      <td>A menos de cem dias da eleição, todas as pesqu...</td>\n",
       "      <td>[{'domain': {'id': '29', 'name': 'Events [Enti...</td>\n",
       "      <td>A menos de cem dias da eleição, todas as pesqu...</td>\n",
       "      <td>no emojis</td>\n",
       "      <td>lula-220714-220707-22495.csv</td>\n",
       "      <td>NaN</td>\n",
       "    </tr>\n",
       "    <tr>\n",
       "      <th>4</th>\n",
       "      <td>76718</td>\n",
       "      <td>1551384799948029952</td>\n",
       "      <td>2022-07-25 01:52:14+00:00</td>\n",
       "      <td>ganhei DUAS toalhas do lula  esqueça</td>\n",
       "      <td>[{'domain': {'id': '10', 'name': 'Person', 'de...</td>\n",
       "      <td>ganhei DUAS toalhas do lula  esqueça</td>\n",
       "      <td>no emojis</td>\n",
       "      <td>lula-220728-220721-23134.csv</td>\n",
       "      <td>NaN</td>\n",
       "    </tr>\n",
       "  </tbody>\n",
       "</table>\n",
       "</div>"
      ],
      "text/plain": [
       "   index                   id                       date  \\\n",
       "0  77386  1551319479816228873  2022-07-24 21:32:40+00:00   \n",
       "1  88425  1554900625342795777  2022-08-03 18:42:52+00:00   \n",
       "2  39880  1545199686994350082  2022-07-08 00:14:48+00:00   \n",
       "3  38553  1545431319504617472  2022-07-08 15:35:13+00:00   \n",
       "4  76718  1551384799948029952  2022-07-25 01:52:14+00:00   \n",
       "\n",
       "                                               tweet  \\\n",
       "0  #carluxo e #dudu continuam calados, em relação...   \n",
       "1  Atenção: Todos comerciantes de #Mortadela e #P...   \n",
       "2  Dilma saiu em 2016, foi obrigatório ter cartei...   \n",
       "3  A menos de cem dias da eleição, todas as pesqu...   \n",
       "4               ganhei DUAS toalhas do lula  esqueça   \n",
       "\n",
       "                                 context_annotations  \\\n",
       "0  [{'domain': {'id': '10', 'name': 'Person', 'de...   \n",
       "1  [{'domain': {'id': '10', 'name': 'Person', 'de...   \n",
       "2  [{'domain': {'id': '10', 'name': 'Person', 'de...   \n",
       "3  [{'domain': {'id': '29', 'name': 'Events [Enti...   \n",
       "4  [{'domain': {'id': '10', 'name': 'Person', 'de...   \n",
       "\n",
       "                                         tweet_clean     emojis  \\\n",
       "0  #carluxo e #dudu continuam calados, em relação...  no emojis   \n",
       "1  Atenção: Todos comerciantes de #Mortadela e #P...         😂🤪   \n",
       "2  Dilma saiu em 2016, foi obrigatório ter cartei...          🤔   \n",
       "3  A menos de cem dias da eleição, todas as pesqu...  no emojis   \n",
       "4               ganhei DUAS toalhas do lula  esqueça  no emojis   \n",
       "\n",
       "                           file  label  \n",
       "0  lula-220728-220721-23134.csv    NaN  \n",
       "1  lula-220804-220728-26269.csv    0.0  \n",
       "2  lula-220714-220707-22495.csv   -1.0  \n",
       "3  lula-220714-220707-22495.csv    NaN  \n",
       "4  lula-220728-220721-23134.csv    NaN  "
      ]
     },
     "execution_count": 686,
     "metadata": {},
     "output_type": "execute_result"
    }
   ],
   "source": [
    "SEED = 1275\n",
    "SAMPLES = 600\n",
    "\n",
    "df_tweets_ground_truth = df_tweets.sample(n=SAMPLES, random_state=SEED)\n",
    "df_tweets_ground_truth.reset_index(drop=False, inplace=True)\n",
    "\n",
    "secondary_address = 'tweets-220804-220707-' + str(SAMPLES) + '-ground-truth.csv'\n",
    "full_address = primary_address + secondary_address\n",
    "\n",
    "df_tweets_ground_truth.to_csv(full_address)\n",
    "\n",
    "df_tweets_ground_truth.head()"
   ]
  },
  {
   "cell_type": "code",
   "execution_count": 687,
   "id": "548dc3c7",
   "metadata": {},
   "outputs": [
    {
     "data": {
      "text/html": [
       "<div>\n",
       "<style scoped>\n",
       "    .dataframe tbody tr th:only-of-type {\n",
       "        vertical-align: middle;\n",
       "    }\n",
       "\n",
       "    .dataframe tbody tr th {\n",
       "        vertical-align: top;\n",
       "    }\n",
       "\n",
       "    .dataframe thead th {\n",
       "        text-align: right;\n",
       "    }\n",
       "</style>\n",
       "<table border=\"1\" class=\"dataframe\">\n",
       "  <thead>\n",
       "    <tr style=\"text-align: right;\">\n",
       "      <th></th>\n",
       "      <th>index</th>\n",
       "      <th>id</th>\n",
       "      <th>date</th>\n",
       "      <th>tweet</th>\n",
       "      <th>context_annotations</th>\n",
       "      <th>tweet_clean</th>\n",
       "      <th>emojis</th>\n",
       "      <th>file</th>\n",
       "      <th>label</th>\n",
       "    </tr>\n",
       "  </thead>\n",
       "  <tbody>\n",
       "    <tr>\n",
       "      <th>479</th>\n",
       "      <td>80127</td>\n",
       "      <td>1550883445777354752</td>\n",
       "      <td>2022-07-23 16:40:02+00:00</td>\n",
       "      <td>Eu estava em uma mesa lotada de bolsominions. ...</td>\n",
       "      <td>[{'domain': {'id': '10', 'name': 'Person', 'de...</td>\n",
       "      <td>Eu estava em uma mesa lotada de bolsominions. ...</td>\n",
       "      <td>no emojis</td>\n",
       "      <td>lula-220728-220721-23134.csv</td>\n",
       "      <td>NaN</td>\n",
       "    </tr>\n",
       "    <tr>\n",
       "      <th>467</th>\n",
       "      <td>110690</td>\n",
       "      <td>1554496160789893123</td>\n",
       "      <td>2022-08-02 15:55:40+00:00</td>\n",
       "      <td>A senadora Mara Gabrili foi escolhida como vic...</td>\n",
       "      <td>[{'domain': {'id': '10', 'name': 'Person', 'de...</td>\n",
       "      <td>A senadora Mara Gabrili foi escolhida como vic...</td>\n",
       "      <td>no emojis</td>\n",
       "      <td>simone-220804-220728-771.csv</td>\n",
       "      <td>NaN</td>\n",
       "    </tr>\n",
       "    <tr>\n",
       "      <th>515</th>\n",
       "      <td>105852</td>\n",
       "      <td>1552846630755438593</td>\n",
       "      <td>2022-07-29 02:41:01+00:00</td>\n",
       "      <td>Tempo de TV e uma campanha forte serão o fiel ...</td>\n",
       "      <td>[{'domain': {'id': '29', 'name': 'Events [Enti...</td>\n",
       "      <td>Tempo de TV e uma campanha forte serão o fiel ...</td>\n",
       "      <td>no emojis</td>\n",
       "      <td>lula-220804-220728-26269.csv</td>\n",
       "      <td>NaN</td>\n",
       "    </tr>\n",
       "    <tr>\n",
       "      <th>474</th>\n",
       "      <td>21474</td>\n",
       "      <td>1547321984270352387</td>\n",
       "      <td>2022-07-13 20:48:03+00:00</td>\n",
       "      <td>Quem gosta ou é fã da Anitta já vota no Lula.N...</td>\n",
       "      <td>[{'domain': {'id': '10', 'name': 'Person', 'de...</td>\n",
       "      <td>Quem gosta ou é fã da Anitta já vota no Lula.N...</td>\n",
       "      <td>no emojis</td>\n",
       "      <td>lula-220714-220707-22495.csv</td>\n",
       "      <td>NaN</td>\n",
       "    </tr>\n",
       "    <tr>\n",
       "      <th>339</th>\n",
       "      <td>34215</td>\n",
       "      <td>1546157274456104962</td>\n",
       "      <td>2022-07-10 15:39:55+00:00</td>\n",
       "      <td>CUT e a CGT, um bando de pelegos que só lutam ...</td>\n",
       "      <td>[{'domain': {'id': '10', 'name': 'Person', 'de...</td>\n",
       "      <td>CUT e a CGT, um bando de pelegos que só lutam ...</td>\n",
       "      <td>no emojis</td>\n",
       "      <td>lula-220714-220707-22495.csv</td>\n",
       "      <td>NaN</td>\n",
       "    </tr>\n",
       "  </tbody>\n",
       "</table>\n",
       "</div>"
      ],
      "text/plain": [
       "      index                   id                       date  \\\n",
       "479   80127  1550883445777354752  2022-07-23 16:40:02+00:00   \n",
       "467  110690  1554496160789893123  2022-08-02 15:55:40+00:00   \n",
       "515  105852  1552846630755438593  2022-07-29 02:41:01+00:00   \n",
       "474   21474  1547321984270352387  2022-07-13 20:48:03+00:00   \n",
       "339   34215  1546157274456104962  2022-07-10 15:39:55+00:00   \n",
       "\n",
       "                                                 tweet  \\\n",
       "479  Eu estava em uma mesa lotada de bolsominions. ...   \n",
       "467  A senadora Mara Gabrili foi escolhida como vic...   \n",
       "515  Tempo de TV e uma campanha forte serão o fiel ...   \n",
       "474  Quem gosta ou é fã da Anitta já vota no Lula.N...   \n",
       "339  CUT e a CGT, um bando de pelegos que só lutam ...   \n",
       "\n",
       "                                   context_annotations  \\\n",
       "479  [{'domain': {'id': '10', 'name': 'Person', 'de...   \n",
       "467  [{'domain': {'id': '10', 'name': 'Person', 'de...   \n",
       "515  [{'domain': {'id': '29', 'name': 'Events [Enti...   \n",
       "474  [{'domain': {'id': '10', 'name': 'Person', 'de...   \n",
       "339  [{'domain': {'id': '10', 'name': 'Person', 'de...   \n",
       "\n",
       "                                           tweet_clean     emojis  \\\n",
       "479  Eu estava em uma mesa lotada de bolsominions. ...  no emojis   \n",
       "467  A senadora Mara Gabrili foi escolhida como vic...  no emojis   \n",
       "515  Tempo de TV e uma campanha forte serão o fiel ...  no emojis   \n",
       "474  Quem gosta ou é fã da Anitta já vota no Lula.N...  no emojis   \n",
       "339  CUT e a CGT, um bando de pelegos que só lutam ...  no emojis   \n",
       "\n",
       "                             file  label  \n",
       "479  lula-220728-220721-23134.csv    NaN  \n",
       "467  simone-220804-220728-771.csv    NaN  \n",
       "515  lula-220804-220728-26269.csv    NaN  \n",
       "474  lula-220714-220707-22495.csv    NaN  \n",
       "339  lula-220714-220707-22495.csv    NaN  "
      ]
     },
     "execution_count": 687,
     "metadata": {},
     "output_type": "execute_result"
    }
   ],
   "source": [
    "df_tweets_ground_truth.sample(5)"
   ]
  }
 ],
 "metadata": {
  "kernelspec": {
   "display_name": "Python 3 (ipykernel)",
   "language": "python",
   "name": "python3"
  },
  "language_info": {
   "codemirror_mode": {
    "name": "ipython",
    "version": 3
   },
   "file_extension": ".py",
   "mimetype": "text/x-python",
   "name": "python",
   "nbconvert_exporter": "python",
   "pygments_lexer": "ipython3",
   "version": "3.9.13"
  },
  "toc": {
   "base_numbering": 1,
   "nav_menu": {
    "height": "146px",
    "width": "356px"
   },
   "number_sections": true,
   "sideBar": true,
   "skip_h1_title": false,
   "title_cell": "Table of Contents",
   "title_sidebar": "Contents",
   "toc_cell": false,
   "toc_position": {
    "height": "calc(100% - 180px)",
    "left": "10px",
    "top": "150px",
    "width": "217.358px"
   },
   "toc_section_display": true,
   "toc_window_display": true
  },
  "varInspector": {
   "cols": {
    "lenName": 16,
    "lenType": 16,
    "lenVar": 40
   },
   "kernels_config": {
    "python": {
     "delete_cmd_postfix": "",
     "delete_cmd_prefix": "del ",
     "library": "var_list.py",
     "varRefreshCmd": "print(var_dic_list())"
    },
    "r": {
     "delete_cmd_postfix": ") ",
     "delete_cmd_prefix": "rm(",
     "library": "var_list.r",
     "varRefreshCmd": "cat(var_dic_list()) "
    }
   },
   "types_to_exclude": [
    "module",
    "function",
    "builtin_function_or_method",
    "instance",
    "_Feature"
   ],
   "window_display": false
  }
 },
 "nbformat": 4,
 "nbformat_minor": 5
}
