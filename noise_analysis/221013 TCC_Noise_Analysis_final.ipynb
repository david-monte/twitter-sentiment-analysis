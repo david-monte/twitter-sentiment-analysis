{
 "cells": [
  {
   "cell_type": "code",
   "execution_count": 1,
   "id": "7558b8e0",
   "metadata": {
    "ExecuteTime": {
     "end_time": "2022-10-13T14:19:12.190541Z",
     "start_time": "2022-10-13T14:19:00.823157Z"
    }
   },
   "outputs": [],
   "source": [
    "import pandas as pd\n",
    "import numpy as np"
   ]
  },
  {
   "cell_type": "markdown",
   "id": "58aa09a4",
   "metadata": {},
   "source": [
    "## Dataset Import"
   ]
  },
  {
   "cell_type": "code",
   "execution_count": 2,
   "id": "4f8d88e9",
   "metadata": {
    "ExecuteTime": {
     "end_time": "2022-10-13T14:19:14.663089Z",
     "start_time": "2022-10-13T14:19:14.598089Z"
    }
   },
   "outputs": [
    {
     "name": "stdout",
     "output_type": "stream",
     "text": [
      "Shape - Negative class:  (200, 8)\n",
      "Shape - Neutral class:  (200, 8)\n",
      "Shape - Positive class:  (200, 8)\n"
     ]
    }
   ],
   "source": [
    "primary_address = '\\\\Users\\dsm3\\OneDrive - UFPE\\Documentos\\Data Science\\Residência CIN (2021)\\Disciplinas\\TCC\\TCC - Datasets\\\\tweets-rotulados\\\\'\n",
    "secondary_address = 'tweets-220826-220707-200-class_-1-labeled-zeta_3.csv'\n",
    "PATH = primary_address + secondary_address\n",
    "\n",
    "df_neg = pd.read_csv(PATH, usecols=['index', 'date', 'tweet', 'tweet_clean', 'emojis', 'label', 'label_check', 'file'], infer_datetime_format=True, parse_dates=[3])\n",
    "\n",
    "secondary_address = 'tweets-220826-220707-200-class_0-labeled-zeta_3.csv'\n",
    "PATH = primary_address + secondary_address\n",
    "\n",
    "df_neutral = pd.read_csv(PATH, usecols=['index', 'date', 'tweet', 'tweet_clean', 'emojis', 'label', 'label_check', 'file'], infer_datetime_format=True, parse_dates=[3])\n",
    "\n",
    "secondary_address = 'tweets-220826-220707-200-class_1-labeled-zeta_3.csv'\n",
    "PATH = primary_address + secondary_address\n",
    "\n",
    "df_pos = pd.read_csv(PATH, usecols=['index', 'date', 'tweet', 'tweet_clean', 'label', 'emojis', 'label_check', 'file'], infer_datetime_format=True, parse_dates=[3])\n",
    "\n",
    "print('Shape - Negative class: ', df_neg.shape)\n",
    "print('Shape - Neutral class: ', df_neutral.shape)\n",
    "print('Shape - Positive class: ', df_pos.shape)"
   ]
  },
  {
   "cell_type": "code",
   "execution_count": 3,
   "id": "0bfad777",
   "metadata": {
    "ExecuteTime": {
     "end_time": "2022-10-13T14:19:24.950746Z",
     "start_time": "2022-10-13T14:19:24.916728Z"
    }
   },
   "outputs": [
    {
     "data": {
      "text/html": [
       "<div>\n",
       "<style scoped>\n",
       "    .dataframe tbody tr th:only-of-type {\n",
       "        vertical-align: middle;\n",
       "    }\n",
       "\n",
       "    .dataframe tbody tr th {\n",
       "        vertical-align: top;\n",
       "    }\n",
       "\n",
       "    .dataframe thead th {\n",
       "        text-align: right;\n",
       "    }\n",
       "</style>\n",
       "<table border=\"1\" class=\"dataframe\">\n",
       "  <thead>\n",
       "    <tr style=\"text-align: right;\">\n",
       "      <th></th>\n",
       "      <th>index</th>\n",
       "      <th>date</th>\n",
       "      <th>tweet</th>\n",
       "      <th>tweet_clean</th>\n",
       "      <th>emojis</th>\n",
       "      <th>file</th>\n",
       "      <th>label</th>\n",
       "      <th>label_check</th>\n",
       "    </tr>\n",
       "  </thead>\n",
       "  <tbody>\n",
       "    <tr>\n",
       "      <th>0</th>\n",
       "      <td>288189</td>\n",
       "      <td>2022-08-25 23:59:45+00:00</td>\n",
       "      <td>Esse Lula me dá enjoo 🤢… ladrão, picareta.</td>\n",
       "      <td>Esse Lula me dá enjoo … ladrão, picareta.</td>\n",
       "      <td>🤢</td>\n",
       "      <td>lula-220826-220825-84492-(entrevista_JN).csv</td>\n",
       "      <td>-1.0</td>\n",
       "      <td>-1</td>\n",
       "    </tr>\n",
       "    <tr>\n",
       "      <th>1</th>\n",
       "      <td>216611</td>\n",
       "      <td>2022-08-26 03:00:05+00:00</td>\n",
       "      <td>Lula 🤮🤮🤮🤮🤮🤮🤮🤮🤮🤮🤮🤮🤮🤮🤮🤮🤮🤮🤮🤮🤮🤮🤮🤮🤮🤮🤮🤮</td>\n",
       "      <td>Lula</td>\n",
       "      <td>🤮</td>\n",
       "      <td>lula-220826-220825-84492-(entrevista_JN).csv</td>\n",
       "      <td>-1.0</td>\n",
       "      <td>-1</td>\n",
       "    </tr>\n",
       "    <tr>\n",
       "      <th>2</th>\n",
       "      <td>130145</td>\n",
       "      <td>2022-08-03 00:12:57+00:00</td>\n",
       "      <td>Eleições no Grêmio nesse ano e vocês aí preocu...</td>\n",
       "      <td>Eleições no Grêmio nesse ano e vocês aí preocu...</td>\n",
       "      <td>🤦</td>\n",
       "      <td>lula-220804-220728-26269.csv</td>\n",
       "      <td>-1.0</td>\n",
       "      <td>0</td>\n",
       "    </tr>\n",
       "    <tr>\n",
       "      <th>3</th>\n",
       "      <td>288351</td>\n",
       "      <td>2022-08-25 23:59:38+00:00</td>\n",
       "      <td>Nunca assistam uma entrevista do lula com uma ...</td>\n",
       "      <td>Nunca assistam uma entrevista do lula com uma ...</td>\n",
       "      <td>😡</td>\n",
       "      <td>lula-220826-220825-84492-(entrevista_JN).csv</td>\n",
       "      <td>-1.0</td>\n",
       "      <td>0</td>\n",
       "    </tr>\n",
       "    <tr>\n",
       "      <th>4</th>\n",
       "      <td>59722</td>\n",
       "      <td>2022-07-14 10:43:49+00:00</td>\n",
       "      <td>Véi me dá um ódio quando vem alguém no posto e...</td>\n",
       "      <td>Véi me dá um ódio quando vem alguém no posto e...</td>\n",
       "      <td>🤬</td>\n",
       "      <td>lula-220714-220707-22495.csv</td>\n",
       "      <td>-1.0</td>\n",
       "      <td>-1</td>\n",
       "    </tr>\n",
       "  </tbody>\n",
       "</table>\n",
       "</div>"
      ],
      "text/plain": [
       "    index                       date  \\\n",
       "0  288189  2022-08-25 23:59:45+00:00   \n",
       "1  216611  2022-08-26 03:00:05+00:00   \n",
       "2  130145  2022-08-03 00:12:57+00:00   \n",
       "3  288351  2022-08-25 23:59:38+00:00   \n",
       "4   59722  2022-07-14 10:43:49+00:00   \n",
       "\n",
       "                                               tweet  \\\n",
       "0         Esse Lula me dá enjoo 🤢… ladrão, picareta.   \n",
       "1                  Lula 🤮🤮🤮🤮🤮🤮🤮🤮🤮🤮🤮🤮🤮🤮🤮🤮🤮🤮🤮🤮🤮🤮🤮🤮🤮🤮🤮🤮   \n",
       "2  Eleições no Grêmio nesse ano e vocês aí preocu...   \n",
       "3  Nunca assistam uma entrevista do lula com uma ...   \n",
       "4  Véi me dá um ódio quando vem alguém no posto e...   \n",
       "\n",
       "                                         tweet_clean emojis  \\\n",
       "0          Esse Lula me dá enjoo … ladrão, picareta.      🤢   \n",
       "1                                              Lula       🤮   \n",
       "2  Eleições no Grêmio nesse ano e vocês aí preocu...      🤦   \n",
       "3  Nunca assistam uma entrevista do lula com uma ...      😡   \n",
       "4  Véi me dá um ódio quando vem alguém no posto e...      🤬   \n",
       "\n",
       "                                           file  label  label_check  \n",
       "0  lula-220826-220825-84492-(entrevista_JN).csv   -1.0           -1  \n",
       "1  lula-220826-220825-84492-(entrevista_JN).csv   -1.0           -1  \n",
       "2                  lula-220804-220728-26269.csv   -1.0            0  \n",
       "3  lula-220826-220825-84492-(entrevista_JN).csv   -1.0            0  \n",
       "4                  lula-220714-220707-22495.csv   -1.0           -1  "
      ]
     },
     "execution_count": 3,
     "metadata": {},
     "output_type": "execute_result"
    }
   ],
   "source": [
    "df_neg.head()"
   ]
  },
  {
   "cell_type": "markdown",
   "id": "015a3694",
   "metadata": {},
   "source": [
    "## Analysis"
   ]
  },
  {
   "cell_type": "code",
   "execution_count": 4,
   "id": "efa942b8",
   "metadata": {
    "ExecuteTime": {
     "end_time": "2022-10-13T14:19:42.947855Z",
     "start_time": "2022-10-13T14:19:42.926864Z"
    }
   },
   "outputs": [
    {
     "data": {
      "text/plain": [
       "-1    54.5\n",
       " 0    42.0\n",
       " 1     3.5\n",
       "Name: label_check, dtype: float64"
      ]
     },
     "execution_count": 4,
     "metadata": {},
     "output_type": "execute_result"
    }
   ],
   "source": [
    "100 * df_neg['label_check'].value_counts()/200"
   ]
  },
  {
   "cell_type": "code",
   "execution_count": 5,
   "id": "064b5339",
   "metadata": {
    "ExecuteTime": {
     "end_time": "2022-10-13T14:19:54.683972Z",
     "start_time": "2022-10-13T14:19:54.661702Z"
    }
   },
   "outputs": [
    {
     "data": {
      "text/plain": [
       " 0.0    78.0\n",
       " 1.0    13.5\n",
       "-1.0     8.0\n",
       "Name: label_check, dtype: float64"
      ]
     },
     "execution_count": 5,
     "metadata": {},
     "output_type": "execute_result"
    }
   ],
   "source": [
    "100 * df_neutral['label_check'].value_counts()/200"
   ]
  },
  {
   "cell_type": "code",
   "execution_count": 6,
   "id": "6a1b85f9",
   "metadata": {
    "ExecuteTime": {
     "end_time": "2022-10-13T14:19:59.177098Z",
     "start_time": "2022-10-13T14:19:59.167152Z"
    }
   },
   "outputs": [
    {
     "data": {
      "text/plain": [
       " 1    68.0\n",
       " 0    24.5\n",
       "-1     7.5\n",
       "Name: label_check, dtype: float64"
      ]
     },
     "execution_count": 6,
     "metadata": {},
     "output_type": "execute_result"
    }
   ],
   "source": [
    "100 * df_pos['label_check'].value_counts()/200"
   ]
  },
  {
   "cell_type": "markdown",
   "id": "b4b51756",
   "metadata": {},
   "source": [
    "* Em uma amostra aleatória de 200 registros de cada classe rotulada a partir dos emojis, tem-se:\n",
    "1. **Classe Negativa:** \n",
    "    1. 54.5% dos registros foram corretamente rotulados;\n",
    "    2. Dos registros incorretamente rotulados, 42% pertenciam a classe neutra e 3.5% pertenciam a classe positiva.\n",
    "<br>\n",
    "2. **Classe Neutra:**\n",
    "    1. 78.0% dos registros foram corretamente rotulados;\n",
    "    2. Dos registros incorretamente rotulados, 13.5% pertenciam a classe negativa e 8.0% pertenciam a classe positiva.\n",
    "<br>\n",
    "3. **Classe Positiva:**\n",
    "    1. 68.0% dos registros foram corretamente rotulados;\n",
    "    2. Dos registros incorretamente rotulados, 24.5% pertenciam a classe neutra e 7.5% pertenciam a classe negativa.\n",
    "<br>"
   ]
  }
 ],
 "metadata": {
  "kernelspec": {
   "display_name": "Python 3 (ipykernel)",
   "language": "python",
   "name": "python3"
  },
  "language_info": {
   "codemirror_mode": {
    "name": "ipython",
    "version": 3
   },
   "file_extension": ".py",
   "mimetype": "text/x-python",
   "name": "python",
   "nbconvert_exporter": "python",
   "pygments_lexer": "ipython3",
   "version": "3.9.13"
  },
  "toc": {
   "base_numbering": 1,
   "nav_menu": {},
   "number_sections": true,
   "sideBar": true,
   "skip_h1_title": false,
   "title_cell": "Table of Contents",
   "title_sidebar": "Contents",
   "toc_cell": false,
   "toc_position": {},
   "toc_section_display": true,
   "toc_window_display": false
  }
 },
 "nbformat": 4,
 "nbformat_minor": 5
}
